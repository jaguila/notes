{
 "metadata": {
  "name": "",
  "signature": "sha256:47419d65073d02d7ce61b7ab176b2cded83bd7132c8e899e80c4455cb1947d7f"
 },
 "nbformat": 3,
 "nbformat_minor": 0,
 "worksheets": [
  {
   "cells": [
    {
     "cell_type": "code",
     "collapsed": false,
     "input": [
      "#to do\n",
      "    #VH\n",
      "        ##pri vs secondary - check pat_ventral and pat_icd\n",
      "        ##rerun pat_pri_sec\n",
      "        ##pri vs secondary - update ad_pat_ventral_11_14\n",
      "        ##check ad_pat_icd\n",
      "        \n",
      "        \n",
      "        #exp vs non-exp - check Pat_ventral and Pat_icd\n",
      "    #IH\n",
      "        #ask james about icd- send email\n",
      "    #Ticket\n",
      "    "
     ],
     "language": "python",
     "metadata": {},
     "outputs": [],
     "prompt_number": 2
    },
    {
     "cell_type": "code",
     "collapsed": false,
     "input": [
      "import pandas as pd\n",
      "import numpy as np\n",
      "import matplotlib.pyplot as plt\n",
      "pd.set_option('max_columns', 50)"
     ],
     "language": "python",
     "metadata": {},
     "outputs": [],
     "prompt_number": 1
    },
    {
     "cell_type": "code",
     "collapsed": false,
     "input": [
      "s=pd.Series([7,'Heisenberg', 3.14, -178971058, 'Happy Eating!'], index=['A','Z','c', 'y','e'])\n",
      "s"
     ],
     "language": "python",
     "metadata": {},
     "outputs": [
      {
       "metadata": {},
       "output_type": "pyout",
       "prompt_number": 2,
       "text": [
        "A                7\n",
        "Z       Heisenberg\n",
        "c             3.14\n",
        "y       -178971058\n",
        "e    Happy Eating!\n",
        "dtype: object"
       ]
      }
     ],
     "prompt_number": 2
    },
    {
     "cell_type": "code",
     "collapsed": false,
     "input": [
      "d = {'Chicago': 1000, 'New York': 1300, 'Portland': 900, 'San Francisco': 1100,\n",
      "     'Austin': 450, 'Boston': None}\n",
      "cities = pd.Series(d)\n",
      "cities"
     ],
     "language": "python",
     "metadata": {},
     "outputs": [
      {
       "metadata": {},
       "output_type": "pyout",
       "prompt_number": 3,
       "text": [
        "Austin            450\n",
        "Boston            NaN\n",
        "Chicago          1000\n",
        "New York         1300\n",
        "Portland          900\n",
        "San Francisco    1100\n",
        "dtype: float64"
       ]
      }
     ],
     "prompt_number": 3
    },
    {
     "cell_type": "code",
     "collapsed": false,
     "input": [
      "cities['Chicago']"
     ],
     "language": "python",
     "metadata": {},
     "outputs": [
      {
       "metadata": {},
       "output_type": "pyout",
       "prompt_number": 4,
       "text": [
        "1000.0"
       ]
      }
     ],
     "prompt_number": 4
    },
    {
     "cell_type": "code",
     "collapsed": false,
     "input": [
      "#cities < 1000 returns a series true and false\n",
      "cities[cities<1000]"
     ],
     "language": "python",
     "metadata": {},
     "outputs": [
      {
       "metadata": {},
       "output_type": "pyout",
       "prompt_number": 5,
       "text": [
        "Austin      450\n",
        "Portland    900\n",
        "dtype: float64"
       ]
      }
     ],
     "prompt_number": 5
    },
    {
     "cell_type": "raw",
     "metadata": {},
     "source": []
    },
    {
     "cell_type": "code",
     "collapsed": false,
     "input": [
      "#returns true and false series\n",
      "less_than_1000=cities<1000\n",
      "\n",
      "print less_than_1000\n",
      "print '\\n'\n",
      "print cities[less_than_1000]"
     ],
     "language": "python",
     "metadata": {},
     "outputs": [
      {
       "output_type": "stream",
       "stream": "stdout",
       "text": [
        "Austin            True\n",
        "Boston           False\n",
        "Chicago          False\n",
        "New York         False\n",
        "Portland          True\n",
        "San Francisco    False\n",
        "dtype: bool\n",
        "\n",
        "\n",
        "Austin      450\n",
        "Portland    900\n",
        "dtype: float64\n"
       ]
      }
     ],
     "prompt_number": 6
    },
    {
     "cell_type": "code",
     "collapsed": false,
     "input": [
      "#change based on the index\n",
      "print 'Old value:', cities['Chicago']\n",
      "cities['Chicago'] = 1400\n",
      "print 'new Values:', cities['Chicago']"
     ],
     "language": "python",
     "metadata": {},
     "outputs": [
      {
       "output_type": "stream",
       "stream": "stdout",
       "text": [
        "Old value: 1000.0\n",
        "new Values: 1400.0\n"
       ]
      }
     ],
     "prompt_number": 7
    },
    {
     "cell_type": "code",
     "collapsed": false,
     "input": [
      "#change values using boolean logic\n",
      "print cities[cities < 1000]\n",
      "print '\\n'\n",
      "cities[cities<1000]=750\n",
      "print cities[cities<1000]"
     ],
     "language": "python",
     "metadata": {},
     "outputs": [
      {
       "output_type": "stream",
       "stream": "stdout",
       "text": [
        "Austin      450\n",
        "Portland    900\n",
        "dtype: float64\n",
        "\n",
        "\n",
        "Austin      750\n",
        "Portland    750\n",
        "dtype: float64\n"
       ]
      }
     ],
     "prompt_number": 19
    },
    {
     "cell_type": "code",
     "collapsed": false,
     "input": [
      "#how to tell if an item is in a series\n",
      "print 'Seattle' in cities\n",
      "print 'San Francisco' in cities"
     ],
     "language": "python",
     "metadata": {},
     "outputs": [
      {
       "output_type": "stream",
       "stream": "stdout",
       "text": [
        "False\n",
        "True\n"
       ]
      }
     ],
     "prompt_number": 8
    },
    {
     "cell_type": "code",
     "collapsed": false,
     "input": [
      "#divide city values by 3\n",
      "cities / 3"
     ],
     "language": "python",
     "metadata": {},
     "outputs": [
      {
       "metadata": {},
       "output_type": "pyout",
       "prompt_number": 21,
       "text": [
        "Austin           250.000000\n",
        "Boston                  NaN\n",
        "Chicago          466.666667\n",
        "New York         433.333333\n",
        "Portland         250.000000\n",
        "San Francisco    366.666667\n",
        "dtype: float64"
       ]
      }
     ],
     "prompt_number": 21
    },
    {
     "cell_type": "code",
     "collapsed": false,
     "input": [
      "np.square(cities)"
     ],
     "language": "python",
     "metadata": {},
     "outputs": [
      {
       "metadata": {},
       "output_type": "pyout",
       "prompt_number": 24,
       "text": [
        "Austin            562500\n",
        "Boston               NaN\n",
        "Chicago          1960000\n",
        "New York         1690000\n",
        "Portland          562500\n",
        "San Francisco    1210000\n",
        "dtype: float64"
       ]
      }
     ],
     "prompt_number": 24
    },
    {
     "cell_type": "code",
     "collapsed": false,
     "input": [
      "# you can add two series Together\n",
      "print cities[['Chicago', 'New York', 'Portland']]\n",
      "print '\\n'\n",
      "print cities[['Austin', 'New York']]\n",
      "print '\\n'\n",
      "print cities[['Chicago', 'New York', 'Portland']]+cities[['Austin', 'New York']]"
     ],
     "language": "python",
     "metadata": {},
     "outputs": [
      {
       "output_type": "stream",
       "stream": "stdout",
       "text": [
        "Chicago     1400\n",
        "New York    1300\n",
        "Portland     900\n",
        "dtype: float64\n",
        "\n",
        "\n",
        "Austin       450\n",
        "New York    1300\n",
        "dtype: float64\n",
        "\n",
        "\n",
        "Austin       NaN\n",
        "Chicago      NaN\n",
        "New York    2600\n",
        "Portland     NaN\n",
        "dtype: float64\n"
       ]
      }
     ],
     "prompt_number": 9
    },
    {
     "cell_type": "code",
     "collapsed": false,
     "input": [
      "#you can do logic on null\n",
      "cities.notnull()"
     ],
     "language": "python",
     "metadata": {},
     "outputs": [
      {
       "metadata": {},
       "output_type": "pyout",
       "prompt_number": 27,
       "text": [
        "Austin            True\n",
        "Boston           False\n",
        "Chicago           True\n",
        "New York          True\n",
        "Portland          True\n",
        "San Francisco     True\n",
        "dtype: bool"
       ]
      }
     ],
     "prompt_number": 27
    },
    {
     "cell_type": "code",
     "collapsed": false,
     "input": [
      "print cities[cities.isnull()]\n",
      "print '\\n'\n"
     ],
     "language": "python",
     "metadata": {},
     "outputs": [
      {
       "output_type": "stream",
       "stream": "stdout",
       "text": [
        "Boston   NaN\n",
        "dtype: float64\n",
        "\n",
        "\n"
       ]
      }
     ],
     "prompt_number": 28
    },
    {
     "cell_type": "code",
     "collapsed": false,
     "input": [
      "#dataframes, just like R. Dataframe orders columns alphabetically\n",
      "data = {'year': [2010, 2011, 2012, 2011, 2012, 2010, 2011, 2012],\n",
      "        'team': ['Bears', 'Bears', 'Bears', 'Packers', 'Packers', 'Lions', 'Lions', 'Lions'],\n",
      "        'wins': [11, 8, 10, 15, 11, 6, 10, 4],\n",
      "        'losses': [5, 8, 6, 1, 5, 10, 6, 12]}\n",
      "football = pd.DataFrame(data, columns=['year', 'team', 'wins', 'losses'])\n",
      "print football"
     ],
     "language": "python",
     "metadata": {},
     "outputs": [
      {
       "output_type": "stream",
       "stream": "stdout",
       "text": [
        "   year     team  wins  losses\n",
        "0  2010    Bears    11       5\n",
        "1  2011    Bears     8       8\n",
        "2  2012    Bears    10       6\n",
        "3  2011  Packers    15       1\n",
        "4  2012  Packers    11       5\n",
        "5  2010    Lions     6      10\n",
        "6  2011    Lions    10       6\n",
        "7  2012    Lions     4      12\n"
       ]
      }
     ],
     "prompt_number": 11
    },
    {
     "cell_type": "code",
     "collapsed": false,
     "input": [
      "#how to change the default column seperator\n",
      "%cd ~/Dropbox/tutorials/pandas/"
     ],
     "language": "python",
     "metadata": {},
     "outputs": [
      {
       "output_type": "stream",
       "stream": "stdout",
       "text": [
        "[Error 3] The system cannot find the path specified: u'C:\\\\Users\\\\dextera/Dropbox/tutorials/pandas/'\n",
        "c:\\dex\\datascience\\kaggle\n"
       ]
      }
     ],
     "prompt_number": 12
    },
    {
     "cell_type": "code",
     "collapsed": false,
     "input": [
      "loc='c:\\\\dex\\\\datascience\\\\kaggle\\\\digit_recog\\\\'\n",
      "from_csv=pd.read_csv(loc+'train.csv')\n"
     ],
     "language": "python",
     "metadata": {},
     "outputs": [],
     "prompt_number": 16
    },
    {
     "cell_type": "code",
     "collapsed": false,
     "input": [
      "from_csv.head()"
     ],
     "language": "python",
     "metadata": {},
     "outputs": [
      {
       "html": [
        "<div style=\"max-height:1000px;max-width:1500px;overflow:auto;\">\n",
        "<table border=\"1\" class=\"dataframe\">\n",
        "  <thead>\n",
        "    <tr style=\"text-align: right;\">\n",
        "      <th></th>\n",
        "      <th>label</th>\n",
        "      <th>pixel0</th>\n",
        "      <th>pixel1</th>\n",
        "      <th>pixel2</th>\n",
        "      <th>pixel3</th>\n",
        "      <th>pixel4</th>\n",
        "      <th>pixel5</th>\n",
        "      <th>pixel6</th>\n",
        "      <th>pixel7</th>\n",
        "      <th>pixel8</th>\n",
        "      <th>pixel9</th>\n",
        "      <th>pixel10</th>\n",
        "      <th>pixel11</th>\n",
        "      <th>pixel12</th>\n",
        "      <th>pixel13</th>\n",
        "      <th>pixel14</th>\n",
        "      <th>pixel15</th>\n",
        "      <th>pixel16</th>\n",
        "      <th>pixel17</th>\n",
        "      <th>pixel18</th>\n",
        "      <th>pixel19</th>\n",
        "      <th>pixel20</th>\n",
        "      <th>pixel21</th>\n",
        "      <th>pixel22</th>\n",
        "      <th>pixel23</th>\n",
        "      <th>...</th>\n",
        "      <th>pixel759</th>\n",
        "      <th>pixel760</th>\n",
        "      <th>pixel761</th>\n",
        "      <th>pixel762</th>\n",
        "      <th>pixel763</th>\n",
        "      <th>pixel764</th>\n",
        "      <th>pixel765</th>\n",
        "      <th>pixel766</th>\n",
        "      <th>pixel767</th>\n",
        "      <th>pixel768</th>\n",
        "      <th>pixel769</th>\n",
        "      <th>pixel770</th>\n",
        "      <th>pixel771</th>\n",
        "      <th>pixel772</th>\n",
        "      <th>pixel773</th>\n",
        "      <th>pixel774</th>\n",
        "      <th>pixel775</th>\n",
        "      <th>pixel776</th>\n",
        "      <th>pixel777</th>\n",
        "      <th>pixel778</th>\n",
        "      <th>pixel779</th>\n",
        "      <th>pixel780</th>\n",
        "      <th>pixel781</th>\n",
        "      <th>pixel782</th>\n",
        "      <th>pixel783</th>\n",
        "    </tr>\n",
        "  </thead>\n",
        "  <tbody>\n",
        "    <tr>\n",
        "      <th>0</th>\n",
        "      <td> 1</td>\n",
        "      <td> 0</td>\n",
        "      <td> 0</td>\n",
        "      <td> 0</td>\n",
        "      <td> 0</td>\n",
        "      <td> 0</td>\n",
        "      <td> 0</td>\n",
        "      <td> 0</td>\n",
        "      <td> 0</td>\n",
        "      <td> 0</td>\n",
        "      <td> 0</td>\n",
        "      <td> 0</td>\n",
        "      <td> 0</td>\n",
        "      <td> 0</td>\n",
        "      <td> 0</td>\n",
        "      <td> 0</td>\n",
        "      <td> 0</td>\n",
        "      <td> 0</td>\n",
        "      <td> 0</td>\n",
        "      <td> 0</td>\n",
        "      <td> 0</td>\n",
        "      <td> 0</td>\n",
        "      <td> 0</td>\n",
        "      <td> 0</td>\n",
        "      <td> 0</td>\n",
        "      <td>...</td>\n",
        "      <td> 0</td>\n",
        "      <td> 0</td>\n",
        "      <td> 0</td>\n",
        "      <td> 0</td>\n",
        "      <td> 0</td>\n",
        "      <td> 0</td>\n",
        "      <td> 0</td>\n",
        "      <td> 0</td>\n",
        "      <td> 0</td>\n",
        "      <td> 0</td>\n",
        "      <td> 0</td>\n",
        "      <td> 0</td>\n",
        "      <td> 0</td>\n",
        "      <td> 0</td>\n",
        "      <td> 0</td>\n",
        "      <td> 0</td>\n",
        "      <td> 0</td>\n",
        "      <td> 0</td>\n",
        "      <td> 0</td>\n",
        "      <td> 0</td>\n",
        "      <td> 0</td>\n",
        "      <td> 0</td>\n",
        "      <td> 0</td>\n",
        "      <td> 0</td>\n",
        "      <td> 0</td>\n",
        "    </tr>\n",
        "    <tr>\n",
        "      <th>1</th>\n",
        "      <td> 0</td>\n",
        "      <td> 0</td>\n",
        "      <td> 0</td>\n",
        "      <td> 0</td>\n",
        "      <td> 0</td>\n",
        "      <td> 0</td>\n",
        "      <td> 0</td>\n",
        "      <td> 0</td>\n",
        "      <td> 0</td>\n",
        "      <td> 0</td>\n",
        "      <td> 0</td>\n",
        "      <td> 0</td>\n",
        "      <td> 0</td>\n",
        "      <td> 0</td>\n",
        "      <td> 0</td>\n",
        "      <td> 0</td>\n",
        "      <td> 0</td>\n",
        "      <td> 0</td>\n",
        "      <td> 0</td>\n",
        "      <td> 0</td>\n",
        "      <td> 0</td>\n",
        "      <td> 0</td>\n",
        "      <td> 0</td>\n",
        "      <td> 0</td>\n",
        "      <td> 0</td>\n",
        "      <td>...</td>\n",
        "      <td> 0</td>\n",
        "      <td> 0</td>\n",
        "      <td> 0</td>\n",
        "      <td> 0</td>\n",
        "      <td> 0</td>\n",
        "      <td> 0</td>\n",
        "      <td> 0</td>\n",
        "      <td> 0</td>\n",
        "      <td> 0</td>\n",
        "      <td> 0</td>\n",
        "      <td> 0</td>\n",
        "      <td> 0</td>\n",
        "      <td> 0</td>\n",
        "      <td> 0</td>\n",
        "      <td> 0</td>\n",
        "      <td> 0</td>\n",
        "      <td> 0</td>\n",
        "      <td> 0</td>\n",
        "      <td> 0</td>\n",
        "      <td> 0</td>\n",
        "      <td> 0</td>\n",
        "      <td> 0</td>\n",
        "      <td> 0</td>\n",
        "      <td> 0</td>\n",
        "      <td> 0</td>\n",
        "    </tr>\n",
        "    <tr>\n",
        "      <th>2</th>\n",
        "      <td> 1</td>\n",
        "      <td> 0</td>\n",
        "      <td> 0</td>\n",
        "      <td> 0</td>\n",
        "      <td> 0</td>\n",
        "      <td> 0</td>\n",
        "      <td> 0</td>\n",
        "      <td> 0</td>\n",
        "      <td> 0</td>\n",
        "      <td> 0</td>\n",
        "      <td> 0</td>\n",
        "      <td> 0</td>\n",
        "      <td> 0</td>\n",
        "      <td> 0</td>\n",
        "      <td> 0</td>\n",
        "      <td> 0</td>\n",
        "      <td> 0</td>\n",
        "      <td> 0</td>\n",
        "      <td> 0</td>\n",
        "      <td> 0</td>\n",
        "      <td> 0</td>\n",
        "      <td> 0</td>\n",
        "      <td> 0</td>\n",
        "      <td> 0</td>\n",
        "      <td> 0</td>\n",
        "      <td>...</td>\n",
        "      <td> 0</td>\n",
        "      <td> 0</td>\n",
        "      <td> 0</td>\n",
        "      <td> 0</td>\n",
        "      <td> 0</td>\n",
        "      <td> 0</td>\n",
        "      <td> 0</td>\n",
        "      <td> 0</td>\n",
        "      <td> 0</td>\n",
        "      <td> 0</td>\n",
        "      <td> 0</td>\n",
        "      <td> 0</td>\n",
        "      <td> 0</td>\n",
        "      <td> 0</td>\n",
        "      <td> 0</td>\n",
        "      <td> 0</td>\n",
        "      <td> 0</td>\n",
        "      <td> 0</td>\n",
        "      <td> 0</td>\n",
        "      <td> 0</td>\n",
        "      <td> 0</td>\n",
        "      <td> 0</td>\n",
        "      <td> 0</td>\n",
        "      <td> 0</td>\n",
        "      <td> 0</td>\n",
        "    </tr>\n",
        "    <tr>\n",
        "      <th>3</th>\n",
        "      <td> 4</td>\n",
        "      <td> 0</td>\n",
        "      <td> 0</td>\n",
        "      <td> 0</td>\n",
        "      <td> 0</td>\n",
        "      <td> 0</td>\n",
        "      <td> 0</td>\n",
        "      <td> 0</td>\n",
        "      <td> 0</td>\n",
        "      <td> 0</td>\n",
        "      <td> 0</td>\n",
        "      <td> 0</td>\n",
        "      <td> 0</td>\n",
        "      <td> 0</td>\n",
        "      <td> 0</td>\n",
        "      <td> 0</td>\n",
        "      <td> 0</td>\n",
        "      <td> 0</td>\n",
        "      <td> 0</td>\n",
        "      <td> 0</td>\n",
        "      <td> 0</td>\n",
        "      <td> 0</td>\n",
        "      <td> 0</td>\n",
        "      <td> 0</td>\n",
        "      <td> 0</td>\n",
        "      <td>...</td>\n",
        "      <td> 0</td>\n",
        "      <td> 0</td>\n",
        "      <td> 0</td>\n",
        "      <td> 0</td>\n",
        "      <td> 0</td>\n",
        "      <td> 0</td>\n",
        "      <td> 0</td>\n",
        "      <td> 0</td>\n",
        "      <td> 0</td>\n",
        "      <td> 0</td>\n",
        "      <td> 0</td>\n",
        "      <td> 0</td>\n",
        "      <td> 0</td>\n",
        "      <td> 0</td>\n",
        "      <td> 0</td>\n",
        "      <td> 0</td>\n",
        "      <td> 0</td>\n",
        "      <td> 0</td>\n",
        "      <td> 0</td>\n",
        "      <td> 0</td>\n",
        "      <td> 0</td>\n",
        "      <td> 0</td>\n",
        "      <td> 0</td>\n",
        "      <td> 0</td>\n",
        "      <td> 0</td>\n",
        "    </tr>\n",
        "    <tr>\n",
        "      <th>4</th>\n",
        "      <td> 0</td>\n",
        "      <td> 0</td>\n",
        "      <td> 0</td>\n",
        "      <td> 0</td>\n",
        "      <td> 0</td>\n",
        "      <td> 0</td>\n",
        "      <td> 0</td>\n",
        "      <td> 0</td>\n",
        "      <td> 0</td>\n",
        "      <td> 0</td>\n",
        "      <td> 0</td>\n",
        "      <td> 0</td>\n",
        "      <td> 0</td>\n",
        "      <td> 0</td>\n",
        "      <td> 0</td>\n",
        "      <td> 0</td>\n",
        "      <td> 0</td>\n",
        "      <td> 0</td>\n",
        "      <td> 0</td>\n",
        "      <td> 0</td>\n",
        "      <td> 0</td>\n",
        "      <td> 0</td>\n",
        "      <td> 0</td>\n",
        "      <td> 0</td>\n",
        "      <td> 0</td>\n",
        "      <td>...</td>\n",
        "      <td> 0</td>\n",
        "      <td> 0</td>\n",
        "      <td> 0</td>\n",
        "      <td> 0</td>\n",
        "      <td> 0</td>\n",
        "      <td> 0</td>\n",
        "      <td> 0</td>\n",
        "      <td> 0</td>\n",
        "      <td> 0</td>\n",
        "      <td> 0</td>\n",
        "      <td> 0</td>\n",
        "      <td> 0</td>\n",
        "      <td> 0</td>\n",
        "      <td> 0</td>\n",
        "      <td> 0</td>\n",
        "      <td> 0</td>\n",
        "      <td> 0</td>\n",
        "      <td> 0</td>\n",
        "      <td> 0</td>\n",
        "      <td> 0</td>\n",
        "      <td> 0</td>\n",
        "      <td> 0</td>\n",
        "      <td> 0</td>\n",
        "      <td> 0</td>\n",
        "      <td> 0</td>\n",
        "    </tr>\n",
        "  </tbody>\n",
        "</table>\n",
        "<p>5 rows \u00d7 785 columns</p>\n",
        "</div>"
       ],
       "metadata": {},
       "output_type": "pyout",
       "prompt_number": 17,
       "text": [
        "   label  pixel0  pixel1  pixel2  pixel3  pixel4  pixel5  pixel6  pixel7  \\\n",
        "0      1       0       0       0       0       0       0       0       0   \n",
        "1      0       0       0       0       0       0       0       0       0   \n",
        "2      1       0       0       0       0       0       0       0       0   \n",
        "3      4       0       0       0       0       0       0       0       0   \n",
        "4      0       0       0       0       0       0       0       0       0   \n",
        "\n",
        "   pixel8  pixel9  pixel10  pixel11  pixel12  pixel13  pixel14  pixel15  \\\n",
        "0       0       0        0        0        0        0        0        0   \n",
        "1       0       0        0        0        0        0        0        0   \n",
        "2       0       0        0        0        0        0        0        0   \n",
        "3       0       0        0        0        0        0        0        0   \n",
        "4       0       0        0        0        0        0        0        0   \n",
        "\n",
        "   pixel16  pixel17  pixel18  pixel19  pixel20  pixel21  pixel22  pixel23  \\\n",
        "0        0        0        0        0        0        0        0        0   \n",
        "1        0        0        0        0        0        0        0        0   \n",
        "2        0        0        0        0        0        0        0        0   \n",
        "3        0        0        0        0        0        0        0        0   \n",
        "4        0        0        0        0        0        0        0        0   \n",
        "\n",
        "     ...     pixel759  pixel760  pixel761  pixel762  pixel763  pixel764  \\\n",
        "0    ...            0         0         0         0         0         0   \n",
        "1    ...            0         0         0         0         0         0   \n",
        "2    ...            0         0         0         0         0         0   \n",
        "3    ...            0         0         0         0         0         0   \n",
        "4    ...            0         0         0         0         0         0   \n",
        "\n",
        "   pixel765  pixel766  pixel767  pixel768  pixel769  pixel770  pixel771  \\\n",
        "0         0         0         0         0         0         0         0   \n",
        "1         0         0         0         0         0         0         0   \n",
        "2         0         0         0         0         0         0         0   \n",
        "3         0         0         0         0         0         0         0   \n",
        "4         0         0         0         0         0         0         0   \n",
        "\n",
        "   pixel772  pixel773  pixel774  pixel775  pixel776  pixel777  pixel778  \\\n",
        "0         0         0         0         0         0         0         0   \n",
        "1         0         0         0         0         0         0         0   \n",
        "2         0         0         0         0         0         0         0   \n",
        "3         0         0         0         0         0         0         0   \n",
        "4         0         0         0         0         0         0         0   \n",
        "\n",
        "   pixel779  pixel780  pixel781  pixel782  pixel783  \n",
        "0         0         0         0         0         0  \n",
        "1         0         0         0         0         0  \n",
        "2         0         0         0         0         0  \n",
        "3         0         0         0         0         0  \n",
        "4         0         0         0         0         0  \n",
        "\n",
        "[5 rows x 785 columns]"
       ]
      }
     ],
     "prompt_number": 17
    },
    {
     "cell_type": "code",
     "collapsed": false,
     "input": [
      "#you can state the column names when creating a dataframe\n",
      "# ex pd.csv('file.csv', sep=',', header=None, names=cols)"
     ],
     "language": "python",
     "metadata": {},
     "outputs": [],
     "prompt_number": 18
    },
    {
     "cell_type": "code",
     "collapsed": false,
     "input": [
      "from sklearn.ensemble import RandomForestClassifier\n",
      "from sklearn.cross_validation import cross_val_score\n"
     ],
     "language": "python",
     "metadata": {},
     "outputs": [],
     "prompt_number": 19
    },
    {
     "cell_type": "markdown",
     "metadata": {},
     "source": [
      "Ensemble(http://blog.yhathq.com/posts/random-forests-in-python.html)\n",
      "     involves combining several models to meet one prediction\n",
      " Random Decision Trees or regression trees\n",
      "     BOTH- deal with variables that have a series of decisions like a leaf node pattern leading down a different branch to an eventual conclusion\n",
      "     Regression trees - continuous variables\n",
      "     decision -  discrete\n",
      "         can deal with training data with errors and missing values\n",
      " Random Forest\n",
      "     creates a bunch of random decision trees automatically. Helps with the eventual analysis\n",
      " \n",
      " "
     ]
    }
   ],
   "metadata": {}
  }
 ]
}