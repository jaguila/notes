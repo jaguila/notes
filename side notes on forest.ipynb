{
 "metadata": {
  "name": "",
  "signature": "sha256:9bdcd75ca0a5b9e39e2990c9a64bc0a4e7c4e163cc64c10c99048afddb9fce58"
 },
 "nbformat": 3,
 "nbformat_minor": 0,
 "worksheets": [
  {
   "cells": [
    {
     "cell_type": "code",
     "collapsed": false,
     "input": [
      "#work on IH icd cohort and conversions not matching\n",
      "\n",
      "import pandas as pd\n",
      "import numpy as np\n",
      "import matplotlib.pyplot as plt\n",
      "from sklearn.ensemble import RandomForestClassifier, RandomForestRegressor\n",
      "from sklearn.cross_validation import cross_val_score"
     ],
     "language": "python",
     "metadata": {},
     "outputs": [],
     "prompt_number": 7
    },
    {
     "cell_type": "code",
     "collapsed": false,
     "input": [
      "#take in data\n",
      "loc=\"C:\\dex\\datascience\\kaggle\\digit_recog\"\n",
      "train=pd.read_csv(loc+\"\\\\train.csv\")"
     ],
     "language": "python",
     "metadata": {},
     "outputs": [],
     "prompt_number": 4
    },
    {
     "cell_type": "code",
     "collapsed": false,
     "input": [
      "\n",
      "\n",
      "def main():\n",
      "    # loading training data\n",
      "    print('Loading training data')\n",
      "    data = train\n",
      "#     turn your training into two arrays (depedent vs independent)\n",
      "    #skip first value and turn them into arrays\n",
      "    X_tr = data.values[:, 1:].astype(float)\n",
      "#     array for first column\n",
      "    y_tr = data.values[:, 0]\n",
      "    \n",
      "    scores = list()\n",
      "    scores_std = list()\n",
      "\n",
      "    print('Start learning...')\n",
      "    n_trees = [10, 15, 20, 25, 30, 40, 50, 70, 100]\n",
      "    for n_tree in n_trees:\n",
      "        print(n_tree)\n",
      "#         randomforest makes a number of different decision trees based on your variable model\n",
      "        recognizer = RandomForestClassifier(n_tree)\n",
      "        \n",
      "#         cross val score takes the forest decision  trees and tries to find a model from  a portion of the decision trees \n",
      "#         given then validate it by applying it to the remainder of the forest\n",
      "        score = cross_val_score(recognizer, X_tr, y_tr)\n",
      "        scores.append(np.mean(score))\n",
      "        scores_std.append(np.std(score))\n",
      "\n",
      "    sc_array = np.array(scores)\n",
      "    std_array = np.array(scores_std)\n",
      "    print('Score: ', sc_array)\n",
      "    print('Std  : ', std_array)\n",
      "\n",
      "    plt.figure(figsize=(4,3))\n",
      "    plt.plot(n_trees, scores)\n",
      "    plt.plot(n_trees, sc_array + std_array, 'b--')\n",
      "    plt.plot(n_trees, sc_array - std_array, 'b--')\n",
      "    plt.ylabel('CV score')\n",
      "    plt.xlabel('# of trees')\n",
      "    plt.savefig('cv_trees.png')\n",
      "    plt.show()\n",
      "\n",
      "\n",
      "if __name__ == '__main__':\n",
      "    main()\n",
      "\n",
      "    "
     ],
     "language": "python",
     "metadata": {},
     "outputs": [
      {
       "output_type": "stream",
       "stream": "stdout",
       "text": [
        "Loading training data\n",
        "Start learning..."
       ]
      },
      {
       "output_type": "stream",
       "stream": "stdout",
       "text": [
        "\n",
        "10\n",
        "15"
       ]
      },
      {
       "output_type": "stream",
       "stream": "stdout",
       "text": [
        "\n",
        "20"
       ]
      },
      {
       "output_type": "stream",
       "stream": "stdout",
       "text": [
        "\n",
        "25"
       ]
      },
      {
       "output_type": "stream",
       "stream": "stdout",
       "text": [
        "\n",
        "30"
       ]
      },
      {
       "output_type": "stream",
       "stream": "stdout",
       "text": [
        "\n",
        "40"
       ]
      },
      {
       "output_type": "stream",
       "stream": "stdout",
       "text": [
        "\n",
        "50"
       ]
      },
      {
       "output_type": "stream",
       "stream": "stdout",
       "text": [
        "\n",
        "70"
       ]
      },
      {
       "output_type": "stream",
       "stream": "stdout",
       "text": [
        "\n",
        "100"
       ]
      },
      {
       "output_type": "stream",
       "stream": "stdout",
       "text": [
        "\n",
        "('Score: ', array([ 0.93385717,  0.94464278,  0.9496193 ,  0.95328585,  0.95557175,\n",
        "        0.95752418,  0.95864299,  0.96080988,  0.96209544]))"
       ]
      },
      {
       "output_type": "stream",
       "stream": "stdout",
       "text": [
        "\n",
        "('Std  : ', array([ 0.00126167,  0.00108396,  0.00125734,  0.00067851,  0.0016581 ,\n",
        "        0.00212125,  0.00130914,  0.00215781,  0.00215231]))\n"
       ]
      },
      {
       "ename": "KeyboardInterrupt",
       "evalue": "",
       "output_type": "pyerr",
       "traceback": [
        "\u001b[1;31m---------------------------------------------------------------------------\u001b[0m\n\u001b[1;31mKeyboardInterrupt\u001b[0m                         Traceback (most recent call last)",
        "\u001b[1;32mC:\\Users\\dextera\\AppData\\Local\\Enthought\\Canopy\\User\\lib\\site-packages\\matplotlib\\backends\\backend_wx.pyc\u001b[0m in \u001b[0;36m_onIdle\u001b[1;34m(self, evt)\u001b[0m\n\u001b[0;32m   1091\u001b[0m         \u001b[1;32mreturn\u001b[0m \u001b[0mkey\u001b[0m\u001b[1;33m\u001b[0m\u001b[0m\n\u001b[0;32m   1092\u001b[0m \u001b[1;33m\u001b[0m\u001b[0m\n\u001b[1;32m-> 1093\u001b[1;33m     \u001b[1;32mdef\u001b[0m \u001b[0m_onIdle\u001b[0m\u001b[1;33m(\u001b[0m\u001b[0mself\u001b[0m\u001b[1;33m,\u001b[0m \u001b[0mevt\u001b[0m\u001b[1;33m)\u001b[0m\u001b[1;33m:\u001b[0m\u001b[1;33m\u001b[0m\u001b[0m\n\u001b[0m\u001b[0;32m   1094\u001b[0m         \u001b[1;34m'a GUI idle event'\u001b[0m\u001b[1;33m\u001b[0m\u001b[0m\n\u001b[0;32m   1095\u001b[0m         \u001b[0mevt\u001b[0m\u001b[1;33m.\u001b[0m\u001b[0mSkip\u001b[0m\u001b[1;33m(\u001b[0m\u001b[1;33m)\u001b[0m\u001b[1;33m\u001b[0m\u001b[0m\n",
        "\u001b[1;31mKeyboardInterrupt\u001b[0m: "
       ]
      }
     ]
    },
    {
     "cell_type": "code",
     "collapsed": false,
     "input": [
      "print train.values[:,1:].astype(float)\n",
      "print train.values[:,0].astype(float)"
     ],
     "language": "python",
     "metadata": {},
     "outputs": [
      {
       "output_type": "stream",
       "stream": "stdout",
       "text": [
        "[[ 0.  0.  0. ...,  0.  0.  0.]\n",
        " [ 0.  0.  0. ...,  0.  0.  0.]\n",
        " [ 0.  0.  0. ...,  0.  0.  0.]\n",
        " ..., \n",
        " [ 0.  0.  0. ...,  0.  0.  0.]\n",
        " [ 0.  0.  0. ...,  0.  0.  0.]\n",
        " [ 0.  0.  0. ...,  0.  0.  0.]]\n",
        "[ 1.  0.  1. ...,  7.  6.  9.]\n"
       ]
      }
     ],
     "prompt_number": 5
    },
    {
     "cell_type": "code",
     "collapsed": false,
     "input": [
      "train.describe()"
     ],
     "language": "python",
     "metadata": {},
     "outputs": [
      {
       "html": [
        "<div style=\"max-height:1000px;max-width:1500px;overflow:auto;\">\n",
        "<table border=\"1\" class=\"dataframe\">\n",
        "  <thead>\n",
        "    <tr style=\"text-align: right;\">\n",
        "      <th></th>\n",
        "      <th>label</th>\n",
        "      <th>pixel0</th>\n",
        "      <th>pixel1</th>\n",
        "      <th>pixel2</th>\n",
        "      <th>pixel3</th>\n",
        "      <th>pixel4</th>\n",
        "      <th>pixel5</th>\n",
        "      <th>pixel6</th>\n",
        "      <th>pixel7</th>\n",
        "      <th>pixel8</th>\n",
        "      <th>...</th>\n",
        "      <th>pixel774</th>\n",
        "      <th>pixel775</th>\n",
        "      <th>pixel776</th>\n",
        "      <th>pixel777</th>\n",
        "      <th>pixel778</th>\n",
        "      <th>pixel779</th>\n",
        "      <th>pixel780</th>\n",
        "      <th>pixel781</th>\n",
        "      <th>pixel782</th>\n",
        "      <th>pixel783</th>\n",
        "    </tr>\n",
        "  </thead>\n",
        "  <tbody>\n",
        "    <tr>\n",
        "      <th>count</th>\n",
        "      <td> 42000.000000</td>\n",
        "      <td> 42000</td>\n",
        "      <td> 42000</td>\n",
        "      <td> 42000</td>\n",
        "      <td> 42000</td>\n",
        "      <td> 42000</td>\n",
        "      <td> 42000</td>\n",
        "      <td> 42000</td>\n",
        "      <td> 42000</td>\n",
        "      <td> 42000</td>\n",
        "      <td>...</td>\n",
        "      <td> 42000.000000</td>\n",
        "      <td> 42000.000000</td>\n",
        "      <td> 42000.000000</td>\n",
        "      <td> 42000.00000</td>\n",
        "      <td> 42000.000000</td>\n",
        "      <td> 42000.000000</td>\n",
        "      <td> 42000</td>\n",
        "      <td> 42000</td>\n",
        "      <td> 42000</td>\n",
        "      <td> 42000</td>\n",
        "    </tr>\n",
        "    <tr>\n",
        "      <th>mean</th>\n",
        "      <td>     4.456643</td>\n",
        "      <td>     0</td>\n",
        "      <td>     0</td>\n",
        "      <td>     0</td>\n",
        "      <td>     0</td>\n",
        "      <td>     0</td>\n",
        "      <td>     0</td>\n",
        "      <td>     0</td>\n",
        "      <td>     0</td>\n",
        "      <td>     0</td>\n",
        "      <td>...</td>\n",
        "      <td>     0.219286</td>\n",
        "      <td>     0.117095</td>\n",
        "      <td>     0.059024</td>\n",
        "      <td>     0.02019</td>\n",
        "      <td>     0.017238</td>\n",
        "      <td>     0.002857</td>\n",
        "      <td>     0</td>\n",
        "      <td>     0</td>\n",
        "      <td>     0</td>\n",
        "      <td>     0</td>\n",
        "    </tr>\n",
        "    <tr>\n",
        "      <th>std</th>\n",
        "      <td>     2.887730</td>\n",
        "      <td>     0</td>\n",
        "      <td>     0</td>\n",
        "      <td>     0</td>\n",
        "      <td>     0</td>\n",
        "      <td>     0</td>\n",
        "      <td>     0</td>\n",
        "      <td>     0</td>\n",
        "      <td>     0</td>\n",
        "      <td>     0</td>\n",
        "      <td>...</td>\n",
        "      <td>     6.312890</td>\n",
        "      <td>     4.633819</td>\n",
        "      <td>     3.274488</td>\n",
        "      <td>     1.75987</td>\n",
        "      <td>     1.894498</td>\n",
        "      <td>     0.414264</td>\n",
        "      <td>     0</td>\n",
        "      <td>     0</td>\n",
        "      <td>     0</td>\n",
        "      <td>     0</td>\n",
        "    </tr>\n",
        "    <tr>\n",
        "      <th>min</th>\n",
        "      <td>     0.000000</td>\n",
        "      <td>     0</td>\n",
        "      <td>     0</td>\n",
        "      <td>     0</td>\n",
        "      <td>     0</td>\n",
        "      <td>     0</td>\n",
        "      <td>     0</td>\n",
        "      <td>     0</td>\n",
        "      <td>     0</td>\n",
        "      <td>     0</td>\n",
        "      <td>...</td>\n",
        "      <td>     0.000000</td>\n",
        "      <td>     0.000000</td>\n",
        "      <td>     0.000000</td>\n",
        "      <td>     0.00000</td>\n",
        "      <td>     0.000000</td>\n",
        "      <td>     0.000000</td>\n",
        "      <td>     0</td>\n",
        "      <td>     0</td>\n",
        "      <td>     0</td>\n",
        "      <td>     0</td>\n",
        "    </tr>\n",
        "    <tr>\n",
        "      <th>25%</th>\n",
        "      <td>     2.000000</td>\n",
        "      <td>     0</td>\n",
        "      <td>     0</td>\n",
        "      <td>     0</td>\n",
        "      <td>     0</td>\n",
        "      <td>     0</td>\n",
        "      <td>     0</td>\n",
        "      <td>     0</td>\n",
        "      <td>     0</td>\n",
        "      <td>     0</td>\n",
        "      <td>...</td>\n",
        "      <td>     0.000000</td>\n",
        "      <td>     0.000000</td>\n",
        "      <td>     0.000000</td>\n",
        "      <td>     0.00000</td>\n",
        "      <td>     0.000000</td>\n",
        "      <td>     0.000000</td>\n",
        "      <td>     0</td>\n",
        "      <td>     0</td>\n",
        "      <td>     0</td>\n",
        "      <td>     0</td>\n",
        "    </tr>\n",
        "    <tr>\n",
        "      <th>50%</th>\n",
        "      <td>     4.000000</td>\n",
        "      <td>     0</td>\n",
        "      <td>     0</td>\n",
        "      <td>     0</td>\n",
        "      <td>     0</td>\n",
        "      <td>     0</td>\n",
        "      <td>     0</td>\n",
        "      <td>     0</td>\n",
        "      <td>     0</td>\n",
        "      <td>     0</td>\n",
        "      <td>...</td>\n",
        "      <td>     0.000000</td>\n",
        "      <td>     0.000000</td>\n",
        "      <td>     0.000000</td>\n",
        "      <td>     0.00000</td>\n",
        "      <td>     0.000000</td>\n",
        "      <td>     0.000000</td>\n",
        "      <td>     0</td>\n",
        "      <td>     0</td>\n",
        "      <td>     0</td>\n",
        "      <td>     0</td>\n",
        "    </tr>\n",
        "    <tr>\n",
        "      <th>75%</th>\n",
        "      <td>     7.000000</td>\n",
        "      <td>     0</td>\n",
        "      <td>     0</td>\n",
        "      <td>     0</td>\n",
        "      <td>     0</td>\n",
        "      <td>     0</td>\n",
        "      <td>     0</td>\n",
        "      <td>     0</td>\n",
        "      <td>     0</td>\n",
        "      <td>     0</td>\n",
        "      <td>...</td>\n",
        "      <td>     0.000000</td>\n",
        "      <td>     0.000000</td>\n",
        "      <td>     0.000000</td>\n",
        "      <td>     0.00000</td>\n",
        "      <td>     0.000000</td>\n",
        "      <td>     0.000000</td>\n",
        "      <td>     0</td>\n",
        "      <td>     0</td>\n",
        "      <td>     0</td>\n",
        "      <td>     0</td>\n",
        "    </tr>\n",
        "    <tr>\n",
        "      <th>max</th>\n",
        "      <td>     9.000000</td>\n",
        "      <td>     0</td>\n",
        "      <td>     0</td>\n",
        "      <td>     0</td>\n",
        "      <td>     0</td>\n",
        "      <td>     0</td>\n",
        "      <td>     0</td>\n",
        "      <td>     0</td>\n",
        "      <td>     0</td>\n",
        "      <td>     0</td>\n",
        "      <td>...</td>\n",
        "      <td>   254.000000</td>\n",
        "      <td>   254.000000</td>\n",
        "      <td>   253.000000</td>\n",
        "      <td>   253.00000</td>\n",
        "      <td>   254.000000</td>\n",
        "      <td>    62.000000</td>\n",
        "      <td>     0</td>\n",
        "      <td>     0</td>\n",
        "      <td>     0</td>\n",
        "      <td>     0</td>\n",
        "    </tr>\n",
        "  </tbody>\n",
        "</table>\n",
        "<p>8 rows \u00d7 785 columns</p>\n",
        "</div>"
       ],
       "metadata": {},
       "output_type": "pyout",
       "prompt_number": 14,
       "text": [
        "              label  pixel0  pixel1  pixel2  pixel3  pixel4  pixel5  pixel6  \\\n",
        "count  42000.000000   42000   42000   42000   42000   42000   42000   42000   \n",
        "mean       4.456643       0       0       0       0       0       0       0   \n",
        "std        2.887730       0       0       0       0       0       0       0   \n",
        "min        0.000000       0       0       0       0       0       0       0   \n",
        "25%        2.000000       0       0       0       0       0       0       0   \n",
        "50%        4.000000       0       0       0       0       0       0       0   \n",
        "75%        7.000000       0       0       0       0       0       0       0   \n",
        "max        9.000000       0       0       0       0       0       0       0   \n",
        "\n",
        "       pixel7  pixel8    ...         pixel774      pixel775      pixel776  \\\n",
        "count   42000   42000    ...     42000.000000  42000.000000  42000.000000   \n",
        "mean        0       0    ...         0.219286      0.117095      0.059024   \n",
        "std         0       0    ...         6.312890      4.633819      3.274488   \n",
        "min         0       0    ...         0.000000      0.000000      0.000000   \n",
        "25%         0       0    ...         0.000000      0.000000      0.000000   \n",
        "50%         0       0    ...         0.000000      0.000000      0.000000   \n",
        "75%         0       0    ...         0.000000      0.000000      0.000000   \n",
        "max         0       0    ...       254.000000    254.000000    253.000000   \n",
        "\n",
        "          pixel777      pixel778      pixel779  pixel780  pixel781  pixel782  \\\n",
        "count  42000.00000  42000.000000  42000.000000     42000     42000     42000   \n",
        "mean       0.02019      0.017238      0.002857         0         0         0   \n",
        "std        1.75987      1.894498      0.414264         0         0         0   \n",
        "min        0.00000      0.000000      0.000000         0         0         0   \n",
        "25%        0.00000      0.000000      0.000000         0         0         0   \n",
        "50%        0.00000      0.000000      0.000000         0         0         0   \n",
        "75%        0.00000      0.000000      0.000000         0         0         0   \n",
        "max      253.00000    254.000000     62.000000         0         0         0   \n",
        "\n",
        "       pixel783  \n",
        "count     42000  \n",
        "mean          0  \n",
        "std           0  \n",
        "min           0  \n",
        "25%           0  \n",
        "50%           0  \n",
        "75%           0  \n",
        "max           0  \n",
        "\n",
        "[8 rows x 785 columns]"
       ]
      }
     ],
     "prompt_number": 14
    },
    {
     "cell_type": "code",
     "collapsed": false,
     "input": [
      "# forest=RandomForestClassifier(10)\n",
      "# x_tree=train.values[:,1:].astype(float)\n",
      "# y_tree=train.values[:,0]\n",
      "\n",
      "forest=RandomForestClassifier(30)\n",
      "x_tree=train.values[:,1:].astype(float)\n",
      "y_tree=train.values[:,0]"
     ],
     "language": "python",
     "metadata": {},
     "outputs": [],
     "prompt_number": 13
    },
    {
     "cell_type": "code",
     "collapsed": false,
     "input": [
      "print forest\n",
      "print '\\n'\n",
      "print x_tree\n",
      "print y_tree"
     ],
     "language": "python",
     "metadata": {},
     "outputs": [
      {
       "output_type": "stream",
       "stream": "stdout",
       "text": [
        "RandomForestClassifier(bootstrap=True, class_weight=None, criterion='gini',\n",
        "            max_depth=None, max_features='auto', max_leaf_nodes=None,\n",
        "            min_samples_leaf=1, min_samples_split=2,\n",
        "            min_weight_fraction_leaf=0.0, n_estimators=30, n_jobs=1,\n",
        "            oob_score=False, random_state=None, verbose=0,\n",
        "            warm_start=False)\n",
        "\n",
        "\n",
        "[[ 0.  0.  0. ...,  0.  0.  0.]\n",
        " [ 0.  0.  0. ...,  0.  0.  0.]\n",
        " [ 0.  0.  0. ...,  0.  0.  0.]\n",
        " ..., \n",
        " [ 0.  0.  0. ...,  0.  0.  0.]\n",
        " [ 0.  0.  0. ...,  0.  0.  0.]\n",
        " [ 0.  0.  0. ...,  0.  0.  0.]]\n",
        "[1 0 1 ..., 7 6 9]\n"
       ]
      }
     ],
     "prompt_number": 17
    },
    {
     "cell_type": "code",
     "collapsed": false,
     "input": [
      "score=cross_val_score(forest, x_tree, y_tree)"
     ],
     "language": "python",
     "metadata": {},
     "outputs": [],
     "prompt_number": 18
    },
    {
     "cell_type": "code",
     "collapsed": false,
     "input": [
      "print score\n",
      "print '\\n'\n",
      "print np.mean(score)"
     ],
     "language": "python",
     "metadata": {},
     "outputs": [
      {
       "output_type": "stream",
       "stream": "stdout",
       "text": [
        "[ 0.95315624  0.95406487  0.95813688]\n",
        "\n",
        "\n",
        "0.95511932806\n"
       ]
      }
     ],
     "prompt_number": 19
    },
    {
     "cell_type": "code",
     "collapsed": false,
     "input": [
      "test=pd.read_csv(loc+\"\\\\test.csv\")\n",
      "forest=RandomForestClassifier(30)\n",
      "forest.fit(x_tree,y_tree)"
     ],
     "language": "python",
     "metadata": {},
     "outputs": [
      {
       "metadata": {},
       "output_type": "pyout",
       "prompt_number": 14,
       "text": [
        "RandomForestClassifier(bootstrap=True, class_weight=None, criterion='gini',\n",
        "            max_depth=None, max_features='auto', max_leaf_nodes=None,\n",
        "            min_samples_leaf=1, min_samples_split=2,\n",
        "            min_weight_fraction_leaf=0.0, n_estimators=30, n_jobs=1,\n",
        "            oob_score=False, random_state=None, verbose=0,\n",
        "            warm_start=False)"
       ]
      }
     ],
     "prompt_number": 14
    },
    {
     "cell_type": "code",
     "collapsed": false,
     "input": [
      "output=forest.predict(test)"
     ],
     "language": "python",
     "metadata": {},
     "outputs": [],
     "prompt_number": 15
    },
    {
     "cell_type": "code",
     "collapsed": false,
     "input": [
      "print output"
     ],
     "language": "python",
     "metadata": {},
     "outputs": [
      {
       "output_type": "stream",
       "stream": "stdout",
       "text": [
        "[2 0 9 ..., 3 9 2]\n"
       ]
      }
     ],
     "prompt_number": 16
    },
    {
     "cell_type": "code",
     "collapsed": false,
     "input": [
      "len(output)"
     ],
     "language": "python",
     "metadata": {},
     "outputs": [
      {
       "metadata": {},
       "output_type": "pyout",
       "prompt_number": 17,
       "text": [
        "28000"
       ]
      }
     ],
     "prompt_number": 17
    },
    {
     "cell_type": "code",
     "collapsed": false,
     "input": [
      "import  xlwt\n",
      "import csv"
     ],
     "language": "python",
     "metadata": {},
     "outputs": [],
     "prompt_number": 70
    },
    {
     "cell_type": "code",
     "collapsed": false,
     "input": [
      "book=xlwt.Workbook()\n",
      "sh=book.add_sheet(\"one\")\n",
      "N=len(output)\n",
      "idcol=np.linspace(1,N,N)\n",
      "idcol2=[]\n",
      "for i in idcol:\n",
      "#     print int(i)\n",
      "    idcol2.append(int(i))\n",
      "n2=0\n",
      "for n, v in enumerate(output, 1):\n",
      "    sh.write(n, 1, int(v))\n",
      "    sh.write(n, 0, n)\n",
      "#     print n, v\n",
      "    n2+=1\n",
      "sh.write(0,0,'ImageId' )\n",
      "sh.write(0,1, 'Label')\n",
      "book.save('stuff.xls')"
     ],
     "language": "python",
     "metadata": {},
     "outputs": [],
     "prompt_number": 67
    },
    {
     "cell_type": "code",
     "collapsed": false,
     "input": [
      "with open('first.csv', 'wb') as csvfile:\n",
      "#     writ=csv.writer(csvfile, delimiter=' ', quotechar='|', quoting=csv.QUOTE_MINIMAL)\n",
      "    writ=csv.writer(csvfile)\n",
      "    writ.writerow(['ImageId','Label'])\n",
      "    for n, v in enumerate(output,1):\n",
      "        writ.writerow((n,int(v)))\n",
      "    \n",
      "\n"
     ],
     "language": "python",
     "metadata": {},
     "outputs": [],
     "prompt_number": 91
    },
    {
     "cell_type": "code",
     "collapsed": false,
     "input": [],
     "language": "python",
     "metadata": {},
     "outputs": []
    }
   ],
   "metadata": {}
  }
 ]
}