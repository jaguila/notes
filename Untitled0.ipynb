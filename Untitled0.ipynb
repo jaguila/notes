{
 "metadata": {
  "name": "",
  "signature": "sha256:7be5839dc58656925d89a3c53de02b9933f27826d7eca73bb4ae2fd2eb6b4470"
 },
 "nbformat": 3,
 "nbformat_minor": 0,
 "worksheets": [
  {
   "cells": [
    {
     "cell_type": "code",
     "collapsed": false,
     "input": [
      "import pandas as pd\n"
     ],
     "language": "python",
     "metadata": {},
     "outputs": [],
     "prompt_number": 1
    },
    {
     "cell_type": "code",
     "collapsed": false,
     "input": [
      "toten=8550\n",
      "totex=5700\n",
      "t_toten=8550*.08\n",
      "t_totex=5700*.09\n",
      "print t_totex/t_toten\n"
     ],
     "language": "python",
     "metadata": {},
     "outputs": [
      {
       "output_type": "stream",
       "stream": "stdout",
       "text": [
        "0.75\n"
       ]
      }
     ],
     "prompt_number": 6
    },
    {
     "cell_type": "code",
     "collapsed": false,
     "input": [
      "q_totex=totex*.17\n",
      "q_toten=toten*.15\n",
      "print q_totex/q_toten\n",
      "\n",
      "R_totex=totex*.13\n",
      "R_toten=toten*.10\n",
      "print R_totex/R_toten\n",
      "\n",
      "V_totex=totex*.15\n",
      "V_toten=toten*.12\n",
      "print V_totex/V_toten\n",
      "\n",
      "T_totex=totex*.13\n",
      "T_toten=toten*.10\n",
      "print T_totex/T_toten\n",
      "\n"
     ],
     "language": "python",
     "metadata": {},
     "outputs": [
      {
       "output_type": "stream",
       "stream": "stdout",
       "text": [
        "0.755555555556\n",
        "0.866666666667\n",
        "0.833333333333\n"
       ]
      }
     ],
     "prompt_number": 8
    },
    {
     "cell_type": "code",
     "collapsed": false,
     "input": [
      "print 1938-1539"
     ],
     "language": "python",
     "metadata": {},
     "outputs": [
      {
       "output_type": "stream",
       "stream": "stdout",
       "text": [
        "399\n"
       ]
      }
     ],
     "prompt_number": 11
    },
    {
     "cell_type": "code",
     "collapsed": false,
     "input": [
      "\n",
      "R_totex=totex*(.13+.17)\n",
      "R_toten=toten*(.15+.10)\n",
      "print R_totex/R_toten"
     ],
     "language": "python",
     "metadata": {},
     "outputs": [
      {
       "output_type": "stream",
       "stream": "stdout",
       "text": [
        "0.8\n"
       ]
      }
     ],
     "prompt_number": 12
    },
    {
     "cell_type": "code",
     "collapsed": false,
     "input": [
      "P_totex=totex*(.18)\n",
      "P_toten=toten*(.22)\n",
      "print P_totex\n",
      "print P_toten\n",
      "print P_totex/P_toten"
     ],
     "language": "python",
     "metadata": {},
     "outputs": [
      {
       "output_type": "stream",
       "stream": "stdout",
       "text": [
        "1026.0\n",
        "1881.0\n",
        "0.545454545455\n"
       ]
      }
     ],
     "prompt_number": 14
    },
    {
     "cell_type": "code",
     "collapsed": false,
     "input": [
      "totQ= ((((475000)*1.075)*1.065)*1.06)\n",
      "totP= ((((475000)*1.09)*1.08)*1.04)\n",
      "totQ= (475000*1.10)\n",
      "totP= (475000*1.08)\n",
      "\n",
      "print totP-totQ"
     ],
     "language": "python",
     "metadata": {},
     "outputs": [
      {
       "output_type": "stream",
       "stream": "stdout",
       "text": [
        "-9500.0\n"
       ]
      }
     ],
     "prompt_number": 22
    },
    {
     "cell_type": "code",
     "collapsed": false,
     "input": [
      "P=8*.06\n",
      "Q=9*.04\n",
      "\n",
      "print P\n",
      "print Q\n",
      "print P/Q"
     ],
     "language": "python",
     "metadata": {},
     "outputs": [
      {
       "output_type": "stream",
       "stream": "stdout",
       "text": [
        "0.48\n",
        "0.36\n",
        "1.33333333333\n"
       ]
      }
     ],
     "prompt_number": 26
    },
    {
     "cell_type": "code",
     "collapsed": false,
     "input": [
      "p=3000000*.09\n",
      "print p\n",
      "print 243000-p"
     ],
     "language": "python",
     "metadata": {},
     "outputs": [
      {
       "output_type": "stream",
       "stream": "stdout",
       "text": [
        "270000.0\n",
        "-27000.0\n"
       ]
      }
     ],
     "prompt_number": 30
    },
    {
     "cell_type": "code",
     "collapsed": false,
     "input": [],
     "language": "python",
     "metadata": {},
     "outputs": []
    }
   ],
   "metadata": {}
  }
 ]
}