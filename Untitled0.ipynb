{
 "metadata": {
  "name": "",
  "signature": "sha256:d62b9463e5c63c9b95dd795e59398901fb9b9d2f646e1fe194a88b12a2b3fbc9"
 },
 "nbformat": 3,
 "nbformat_minor": 0,
 "worksheets": [
  {
   "cells": [
    {
     "cell_type": "code",
     "collapsed": false,
     "input": [
      "#work on IH icd cohort and conversions not matching\n",
      "\n",
      "import pandas as pd\n",
      "import numpy as np\n",
      "import matplotlib.pyplot as plt\n",
      "from sklearn.ensemble import RandomForestClassifier\n",
      "from sklearn.cross_validation import cross_val_score"
     ],
     "language": "python",
     "metadata": {},
     "outputs": [],
     "prompt_number": 3
    },
    {
     "cell_type": "code",
     "collapsed": false,
     "input": [
      "#take in data\n",
      "loc=\"C:\\dex\\datascience\\kaggle\\digit_recog\"\n",
      "train=pd.read_csv(loc+\"\\\\train.csv\")"
     ],
     "language": "python",
     "metadata": {},
     "outputs": [],
     "prompt_number": 4
    },
    {
     "cell_type": "code",
     "collapsed": false,
     "input": [
      "\n",
      "\n",
      "def main():\n",
      "    # loading training data\n",
      "    print('Loading training data')\n",
      "    data = train\n",
      "    #skip first value and turn them into arrays\n",
      "    X_tr = data.values[:, 1:].astype(float)\n",
      "#     array for first column\n",
      "    y_tr = data.values[:, 0]\n",
      "    \n",
      "    scores = list()\n",
      "    scores_std = list()\n",
      "\n",
      "    print('Start learning...')\n",
      "    n_trees = [10, 15, 20, 25, 30, 40, 50, 70, 100]\n",
      "    for n_tree in n_trees:\n",
      "        print(n_tree)\n",
      "        recognizer = RandomForestClassifier(n_tree)\n",
      "        score = cross_val_score(recognizer, X_tr, y_tr)\n",
      "        scores.append(np.mean(score))\n",
      "        scores_std.append(np.std(score))\n",
      "\n",
      "    sc_array = np.array(scores)\n",
      "    std_array = np.array(scores_std)\n",
      "    print('Score: ', sc_array)\n",
      "    print('Std  : ', std_array)\n",
      "\n",
      "    #plt.figure(figsize=(4,3))\n",
      "    plt.plot(n_trees, scores)\n",
      "    plt.plot(n_trees, sc_array + std_array, 'b--')\n",
      "    plt.plot(n_trees, sc_array - std_array, 'b--')\n",
      "    plt.ylabel('CV score')\n",
      "    plt.xlabel('# of trees')\n",
      "    plt.savefig('cv_trees.png')\n",
      "    # plt.show()\n",
      "\n",
      "\n",
      "if __name__ == '__main__':\n",
      "    main()\n",
      "\n",
      "    "
     ],
     "language": "python",
     "metadata": {},
     "outputs": [
      {
       "output_type": "stream",
       "stream": "stdout",
       "text": [
        "Loading training data\n",
        "Start learning..."
       ]
      },
      {
       "output_type": "stream",
       "stream": "stdout",
       "text": [
        "\n",
        "10\n",
        "15"
       ]
      },
      {
       "output_type": "stream",
       "stream": "stdout",
       "text": [
        "\n",
        "20"
       ]
      },
      {
       "output_type": "stream",
       "stream": "stdout",
       "text": [
        "\n",
        "25"
       ]
      },
      {
       "output_type": "stream",
       "stream": "stdout",
       "text": [
        "\n",
        "30"
       ]
      },
      {
       "output_type": "stream",
       "stream": "stdout",
       "text": [
        "\n",
        "40"
       ]
      },
      {
       "output_type": "stream",
       "stream": "stdout",
       "text": [
        "\n",
        "50"
       ]
      },
      {
       "output_type": "stream",
       "stream": "stdout",
       "text": [
        "\n",
        "70"
       ]
      },
      {
       "output_type": "stream",
       "stream": "stdout",
       "text": [
        "\n",
        "100"
       ]
      },
      {
       "output_type": "stream",
       "stream": "stdout",
       "text": [
        "\n",
        "('Score: ', array([ 0.93347643,  0.94492883,  0.95042892,  0.95440523,  0.95509561,\n",
        "        0.95728591,  0.9593098 ,  0.96183355,  0.9619527 ]))"
       ]
      },
      {
       "output_type": "stream",
       "stream": "stdout",
       "text": [
        "\n",
        "('Std  : ', array([ 0.00118497,  0.00222813,  0.00327915,  0.00231192,  0.00215109,\n",
        "        0.00139504,  0.00140278,  0.00179518,  0.00199499]))\n"
       ]
      }
     ],
     "prompt_number": 8
    },
    {
     "cell_type": "code",
     "collapsed": false,
     "input": [
      "print train.values[:,1:].astype(float)\n",
      "print train.values[:,0].astype(float)"
     ],
     "language": "python",
     "metadata": {},
     "outputs": [
      {
       "output_type": "stream",
       "stream": "stdout",
       "text": [
        "[[ 0.  0.  0. ...,  0.  0.  0.]\n",
        " [ 0.  0.  0. ...,  0.  0.  0.]\n",
        " [ 0.  0.  0. ...,  0.  0.  0.]\n",
        " ..., \n",
        " [ 0.  0.  0. ...,  0.  0.  0.]\n",
        " [ 0.  0.  0. ...,  0.  0.  0.]\n",
        " [ 0.  0.  0. ...,  0.  0.  0.]]\n",
        "[ 1.  0.  1. ...,  7.  6.  9.]\n"
       ]
      }
     ],
     "prompt_number": 5
    },
    {
     "cell_type": "code",
     "collapsed": false,
     "input": [
      "train.describe()"
     ],
     "language": "python",
     "metadata": {},
     "outputs": [
      {
       "html": [
        "<div style=\"max-height:1000px;max-width:1500px;overflow:auto;\">\n",
        "<table border=\"1\" class=\"dataframe\">\n",
        "  <thead>\n",
        "    <tr style=\"text-align: right;\">\n",
        "      <th></th>\n",
        "      <th>label</th>\n",
        "      <th>pixel0</th>\n",
        "      <th>pixel1</th>\n",
        "      <th>pixel2</th>\n",
        "      <th>pixel3</th>\n",
        "      <th>pixel4</th>\n",
        "      <th>pixel5</th>\n",
        "      <th>pixel6</th>\n",
        "      <th>pixel7</th>\n",
        "      <th>pixel8</th>\n",
        "      <th>...</th>\n",
        "      <th>pixel774</th>\n",
        "      <th>pixel775</th>\n",
        "      <th>pixel776</th>\n",
        "      <th>pixel777</th>\n",
        "      <th>pixel778</th>\n",
        "      <th>pixel779</th>\n",
        "      <th>pixel780</th>\n",
        "      <th>pixel781</th>\n",
        "      <th>pixel782</th>\n",
        "      <th>pixel783</th>\n",
        "    </tr>\n",
        "  </thead>\n",
        "  <tbody>\n",
        "    <tr>\n",
        "      <th>count</th>\n",
        "      <td> 42000.000000</td>\n",
        "      <td> 42000</td>\n",
        "      <td> 42000</td>\n",
        "      <td> 42000</td>\n",
        "      <td> 42000</td>\n",
        "      <td> 42000</td>\n",
        "      <td> 42000</td>\n",
        "      <td> 42000</td>\n",
        "      <td> 42000</td>\n",
        "      <td> 42000</td>\n",
        "      <td>...</td>\n",
        "      <td> 42000.000000</td>\n",
        "      <td> 42000.000000</td>\n",
        "      <td> 42000.000000</td>\n",
        "      <td> 42000.00000</td>\n",
        "      <td> 42000.000000</td>\n",
        "      <td> 42000.000000</td>\n",
        "      <td> 42000</td>\n",
        "      <td> 42000</td>\n",
        "      <td> 42000</td>\n",
        "      <td> 42000</td>\n",
        "    </tr>\n",
        "    <tr>\n",
        "      <th>mean</th>\n",
        "      <td>     4.456643</td>\n",
        "      <td>     0</td>\n",
        "      <td>     0</td>\n",
        "      <td>     0</td>\n",
        "      <td>     0</td>\n",
        "      <td>     0</td>\n",
        "      <td>     0</td>\n",
        "      <td>     0</td>\n",
        "      <td>     0</td>\n",
        "      <td>     0</td>\n",
        "      <td>...</td>\n",
        "      <td>     0.219286</td>\n",
        "      <td>     0.117095</td>\n",
        "      <td>     0.059024</td>\n",
        "      <td>     0.02019</td>\n",
        "      <td>     0.017238</td>\n",
        "      <td>     0.002857</td>\n",
        "      <td>     0</td>\n",
        "      <td>     0</td>\n",
        "      <td>     0</td>\n",
        "      <td>     0</td>\n",
        "    </tr>\n",
        "    <tr>\n",
        "      <th>std</th>\n",
        "      <td>     2.887730</td>\n",
        "      <td>     0</td>\n",
        "      <td>     0</td>\n",
        "      <td>     0</td>\n",
        "      <td>     0</td>\n",
        "      <td>     0</td>\n",
        "      <td>     0</td>\n",
        "      <td>     0</td>\n",
        "      <td>     0</td>\n",
        "      <td>     0</td>\n",
        "      <td>...</td>\n",
        "      <td>     6.312890</td>\n",
        "      <td>     4.633819</td>\n",
        "      <td>     3.274488</td>\n",
        "      <td>     1.75987</td>\n",
        "      <td>     1.894498</td>\n",
        "      <td>     0.414264</td>\n",
        "      <td>     0</td>\n",
        "      <td>     0</td>\n",
        "      <td>     0</td>\n",
        "      <td>     0</td>\n",
        "    </tr>\n",
        "    <tr>\n",
        "      <th>min</th>\n",
        "      <td>     0.000000</td>\n",
        "      <td>     0</td>\n",
        "      <td>     0</td>\n",
        "      <td>     0</td>\n",
        "      <td>     0</td>\n",
        "      <td>     0</td>\n",
        "      <td>     0</td>\n",
        "      <td>     0</td>\n",
        "      <td>     0</td>\n",
        "      <td>     0</td>\n",
        "      <td>...</td>\n",
        "      <td>     0.000000</td>\n",
        "      <td>     0.000000</td>\n",
        "      <td>     0.000000</td>\n",
        "      <td>     0.00000</td>\n",
        "      <td>     0.000000</td>\n",
        "      <td>     0.000000</td>\n",
        "      <td>     0</td>\n",
        "      <td>     0</td>\n",
        "      <td>     0</td>\n",
        "      <td>     0</td>\n",
        "    </tr>\n",
        "    <tr>\n",
        "      <th>25%</th>\n",
        "      <td>     2.000000</td>\n",
        "      <td>     0</td>\n",
        "      <td>     0</td>\n",
        "      <td>     0</td>\n",
        "      <td>     0</td>\n",
        "      <td>     0</td>\n",
        "      <td>     0</td>\n",
        "      <td>     0</td>\n",
        "      <td>     0</td>\n",
        "      <td>     0</td>\n",
        "      <td>...</td>\n",
        "      <td>     0.000000</td>\n",
        "      <td>     0.000000</td>\n",
        "      <td>     0.000000</td>\n",
        "      <td>     0.00000</td>\n",
        "      <td>     0.000000</td>\n",
        "      <td>     0.000000</td>\n",
        "      <td>     0</td>\n",
        "      <td>     0</td>\n",
        "      <td>     0</td>\n",
        "      <td>     0</td>\n",
        "    </tr>\n",
        "    <tr>\n",
        "      <th>50%</th>\n",
        "      <td>     4.000000</td>\n",
        "      <td>     0</td>\n",
        "      <td>     0</td>\n",
        "      <td>     0</td>\n",
        "      <td>     0</td>\n",
        "      <td>     0</td>\n",
        "      <td>     0</td>\n",
        "      <td>     0</td>\n",
        "      <td>     0</td>\n",
        "      <td>     0</td>\n",
        "      <td>...</td>\n",
        "      <td>     0.000000</td>\n",
        "      <td>     0.000000</td>\n",
        "      <td>     0.000000</td>\n",
        "      <td>     0.00000</td>\n",
        "      <td>     0.000000</td>\n",
        "      <td>     0.000000</td>\n",
        "      <td>     0</td>\n",
        "      <td>     0</td>\n",
        "      <td>     0</td>\n",
        "      <td>     0</td>\n",
        "    </tr>\n",
        "    <tr>\n",
        "      <th>75%</th>\n",
        "      <td>     7.000000</td>\n",
        "      <td>     0</td>\n",
        "      <td>     0</td>\n",
        "      <td>     0</td>\n",
        "      <td>     0</td>\n",
        "      <td>     0</td>\n",
        "      <td>     0</td>\n",
        "      <td>     0</td>\n",
        "      <td>     0</td>\n",
        "      <td>     0</td>\n",
        "      <td>...</td>\n",
        "      <td>     0.000000</td>\n",
        "      <td>     0.000000</td>\n",
        "      <td>     0.000000</td>\n",
        "      <td>     0.00000</td>\n",
        "      <td>     0.000000</td>\n",
        "      <td>     0.000000</td>\n",
        "      <td>     0</td>\n",
        "      <td>     0</td>\n",
        "      <td>     0</td>\n",
        "      <td>     0</td>\n",
        "    </tr>\n",
        "    <tr>\n",
        "      <th>max</th>\n",
        "      <td>     9.000000</td>\n",
        "      <td>     0</td>\n",
        "      <td>     0</td>\n",
        "      <td>     0</td>\n",
        "      <td>     0</td>\n",
        "      <td>     0</td>\n",
        "      <td>     0</td>\n",
        "      <td>     0</td>\n",
        "      <td>     0</td>\n",
        "      <td>     0</td>\n",
        "      <td>...</td>\n",
        "      <td>   254.000000</td>\n",
        "      <td>   254.000000</td>\n",
        "      <td>   253.000000</td>\n",
        "      <td>   253.00000</td>\n",
        "      <td>   254.000000</td>\n",
        "      <td>    62.000000</td>\n",
        "      <td>     0</td>\n",
        "      <td>     0</td>\n",
        "      <td>     0</td>\n",
        "      <td>     0</td>\n",
        "    </tr>\n",
        "  </tbody>\n",
        "</table>\n",
        "<p>8 rows \u00d7 785 columns</p>\n",
        "</div>"
       ],
       "metadata": {},
       "output_type": "pyout",
       "prompt_number": 14,
       "text": [
        "              label  pixel0  pixel1  pixel2  pixel3  pixel4  pixel5  pixel6  \\\n",
        "count  42000.000000   42000   42000   42000   42000   42000   42000   42000   \n",
        "mean       4.456643       0       0       0       0       0       0       0   \n",
        "std        2.887730       0       0       0       0       0       0       0   \n",
        "min        0.000000       0       0       0       0       0       0       0   \n",
        "25%        2.000000       0       0       0       0       0       0       0   \n",
        "50%        4.000000       0       0       0       0       0       0       0   \n",
        "75%        7.000000       0       0       0       0       0       0       0   \n",
        "max        9.000000       0       0       0       0       0       0       0   \n",
        "\n",
        "       pixel7  pixel8    ...         pixel774      pixel775      pixel776  \\\n",
        "count   42000   42000    ...     42000.000000  42000.000000  42000.000000   \n",
        "mean        0       0    ...         0.219286      0.117095      0.059024   \n",
        "std         0       0    ...         6.312890      4.633819      3.274488   \n",
        "min         0       0    ...         0.000000      0.000000      0.000000   \n",
        "25%         0       0    ...         0.000000      0.000000      0.000000   \n",
        "50%         0       0    ...         0.000000      0.000000      0.000000   \n",
        "75%         0       0    ...         0.000000      0.000000      0.000000   \n",
        "max         0       0    ...       254.000000    254.000000    253.000000   \n",
        "\n",
        "          pixel777      pixel778      pixel779  pixel780  pixel781  pixel782  \\\n",
        "count  42000.00000  42000.000000  42000.000000     42000     42000     42000   \n",
        "mean       0.02019      0.017238      0.002857         0         0         0   \n",
        "std        1.75987      1.894498      0.414264         0         0         0   \n",
        "min        0.00000      0.000000      0.000000         0         0         0   \n",
        "25%        0.00000      0.000000      0.000000         0         0         0   \n",
        "50%        0.00000      0.000000      0.000000         0         0         0   \n",
        "75%        0.00000      0.000000      0.000000         0         0         0   \n",
        "max      253.00000    254.000000     62.000000         0         0         0   \n",
        "\n",
        "       pixel783  \n",
        "count     42000  \n",
        "mean          0  \n",
        "std           0  \n",
        "min           0  \n",
        "25%           0  \n",
        "50%           0  \n",
        "75%           0  \n",
        "max           0  \n",
        "\n",
        "[8 rows x 785 columns]"
       ]
      }
     ],
     "prompt_number": 14
    },
    {
     "cell_type": "code",
     "collapsed": false,
     "input": [
      "forest=RandomForestClassifier(10)\n",
      "x_tree=train.values[:,1:].astype(float)\n",
      "y_tree=train.values[:,0]\n"
     ],
     "language": "python",
     "metadata": {},
     "outputs": [],
     "prompt_number": 21
    },
    {
     "cell_type": "code",
     "collapsed": false,
     "input": [
      "print forest\n",
      "print '\\n'\n",
      "print x_tree\n",
      "print y_tree"
     ],
     "language": "python",
     "metadata": {},
     "outputs": [
      {
       "output_type": "stream",
       "stream": "stdout",
       "text": [
        "RandomForestClassifier(bootstrap=True, class_weight=None, criterion='gini',\n",
        "            max_depth=None, max_features='auto', max_leaf_nodes=None,\n",
        "            min_samples_leaf=1, min_samples_split=2,\n",
        "            min_weight_fraction_leaf=0.0, n_estimators=10, n_jobs=1,\n",
        "            oob_score=False, random_state=None, verbose=0,\n",
        "            warm_start=False)\n",
        "\n",
        "\n",
        "[[ 0.  0.  0. ...,  0.  0.  0.]\n",
        " [ 0.  0.  0. ...,  0.  0.  0.]\n",
        " [ 0.  0.  0. ...,  0.  0.  0.]\n",
        " ..., \n",
        " [ 0.  0.  0. ...,  0.  0.  0.]\n",
        " [ 0.  0.  0. ...,  0.  0.  0.]\n",
        " [ 0.  0.  0. ...,  0.  0.  0.]]\n",
        "[1 0 1 ..., 7 6 9]\n"
       ]
      }
     ],
     "prompt_number": 22
    },
    {
     "cell_type": "code",
     "collapsed": false,
     "input": [
      "score=cross_val_score(forest, x_tree, y_tree)"
     ],
     "language": "python",
     "metadata": {},
     "outputs": [],
     "prompt_number": 23
    },
    {
     "cell_type": "code",
     "collapsed": false,
     "input": [
      "print score"
     ],
     "language": "python",
     "metadata": {},
     "outputs": [
      {
       "output_type": "stream",
       "stream": "stdout",
       "text": [
        "[ 0.93173379  0.93106158  0.9347764 ]\n"
       ]
      }
     ],
     "prompt_number": 24
    },
    {
     "cell_type": "code",
     "collapsed": false,
     "input": [],
     "language": "python",
     "metadata": {},
     "outputs": []
    }
   ],
   "metadata": {}
  }
 ]
}