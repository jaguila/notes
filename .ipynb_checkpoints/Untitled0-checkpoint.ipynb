{
 "metadata": {
  "name": "",
  "signature": "sha256:f5a3afb5b0f305b7102a31efe77c267ff273367145d514ae5bd890f448e3858a"
 },
 "nbformat": 3,
 "nbformat_minor": 0,
 "worksheets": []
}