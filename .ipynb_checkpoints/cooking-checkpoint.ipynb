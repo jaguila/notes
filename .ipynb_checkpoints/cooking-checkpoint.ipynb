{
 "metadata": {
  "name": "",
  "signature": "sha256:276689b10e96beb3d89a8fc5cac140fa204dd9f8a10fcd09e339565b46235fc5"
 },
 "nbformat": 3,
 "nbformat_minor": 0,
 "worksheets": [
  {
   "cells": [
    {
     "cell_type": "code",
     "collapsed": false,
     "input": [
      "import matplotlib.pyplot as plt\n",
      "import json\n",
      "import numpy as np\n",
      "from sklearn.ensemble import RandomForestClassifier, RandomForestRegressor\n",
      "from sklearn.cross_validation import cross_val_score\n",
      "import pandas as pd"
     ],
     "language": "python",
     "metadata": {},
     "outputs": [],
     "prompt_number": 1
    },
    {
     "cell_type": "code",
     "collapsed": false,
     "input": [
      "# upload\n",
      "loc=\"C:\\\\dex\\\\datascience\\\\kaggle\\\\cooking\\\\\"\n",
      "train=pd.read_json(loc+\"train.json\")"
     ],
     "language": "python",
     "metadata": {},
     "outputs": [],
     "prompt_number": 2
    },
    {
     "cell_type": "code",
     "collapsed": false,
     "input": [
      "train.head()"
     ],
     "language": "python",
     "metadata": {},
     "outputs": [
      {
       "html": [
        "<div style=\"max-height:1000px;max-width:1500px;overflow:auto;\">\n",
        "<table border=\"1\" class=\"dataframe\">\n",
        "  <thead>\n",
        "    <tr style=\"text-align: right;\">\n",
        "      <th></th>\n",
        "      <th>cuisine</th>\n",
        "      <th>id</th>\n",
        "      <th>ingredients</th>\n",
        "    </tr>\n",
        "  </thead>\n",
        "  <tbody>\n",
        "    <tr>\n",
        "      <th>0</th>\n",
        "      <td>       greek</td>\n",
        "      <td> 10259</td>\n",
        "      <td> [romaine lettuce, black olives, grape tomatoes...</td>\n",
        "    </tr>\n",
        "    <tr>\n",
        "      <th>1</th>\n",
        "      <td> southern_us</td>\n",
        "      <td> 25693</td>\n",
        "      <td> [plain flour, ground pepper, salt, tomatoes, g...</td>\n",
        "    </tr>\n",
        "    <tr>\n",
        "      <th>2</th>\n",
        "      <td>    filipino</td>\n",
        "      <td> 20130</td>\n",
        "      <td> [eggs, pepper, salt, mayonaise, cooking oil, g...</td>\n",
        "    </tr>\n",
        "    <tr>\n",
        "      <th>3</th>\n",
        "      <td>      indian</td>\n",
        "      <td> 22213</td>\n",
        "      <td>               [water, vegetable oil, wheat, salt]</td>\n",
        "    </tr>\n",
        "    <tr>\n",
        "      <th>4</th>\n",
        "      <td>      indian</td>\n",
        "      <td> 13162</td>\n",
        "      <td> [black pepper, shallots, cornflour, cayenne pe...</td>\n",
        "    </tr>\n",
        "  </tbody>\n",
        "</table>\n",
        "</div>"
       ],
       "metadata": {},
       "output_type": "pyout",
       "prompt_number": 4,
       "text": [
        "       cuisine     id                                        ingredients\n",
        "0        greek  10259  [romaine lettuce, black olives, grape tomatoes...\n",
        "1  southern_us  25693  [plain flour, ground pepper, salt, tomatoes, g...\n",
        "2     filipino  20130  [eggs, pepper, salt, mayonaise, cooking oil, g...\n",
        "3       indian  22213                [water, vegetable oil, wheat, salt]\n",
        "4       indian  13162  [black pepper, shallots, cornflour, cayenne pe..."
       ]
      }
     ],
     "prompt_number": 4
    },
    {
     "cell_type": "code",
     "collapsed": false,
     "input": [
      "# seperate dependent variable into array\n",
      "y_tr=train.values[:,0]\n",
      "y_tr=[x.encode('UTF8') for x in y_tr]\n",
      "# print y_tr\n"
     ],
     "language": "python",
     "metadata": {},
     "outputs": [],
     "prompt_number": 3
    },
    {
     "cell_type": "code",
     "collapsed": false,
     "input": [
      "# plot frequency of dependent variables\n",
      "\n",
      "# create frequencies dict\n",
      "y_freq={}\n",
      "for y in y_tr:\n",
      "    if y_freq.has_key(y):\n",
      "        y_freq[y]=y_freq[y]+1\n",
      "    else:\n",
      "        y_freq[y]=1\n",
      "\n",
      "plt.bar(range(len(y_freq.values())), y_freq.values(), align='center')\n",
      "plt.xticks(range(len(y_freq)), y_freq.keys(),size='small', rotation='vertical')\n",
      "plt.show()"
     ],
     "language": "python",
     "metadata": {},
     "outputs": [],
     "prompt_number": 4
    },
    {
     "cell_type": "code",
     "collapsed": false,
     "input": [
      "# create bar graph\n",
      "# create dict for frequency of each type of cuisine\n",
      "y_freq={}\n",
      "for y in y_tr:\n",
      "    if y_freq.has_key(y):\n",
      "        y_freq[y]=y_freq[y]+1\n",
      "    else:\n",
      "        y_freq[y]=1\n",
      "\n",
      "plt.bar(range(len(y_freq)), y_freq.values())\n",
      "plt.xticks(range(len(y_freq)), y_freq.keys(), rotation='vertical')\n",
      "plt.show()"
     ],
     "language": "python",
     "metadata": {},
     "outputs": [],
     "prompt_number": 5
    },
    {
     "cell_type": "code",
     "collapsed": false,
     "input": [
      "# place indep vars into array\n",
      "x_tr=train.values[:,2]\n",
      "\n",
      "# join all the seperate lists into one list\n",
      "x_tr1=[' '.join(x) for x in x_tr]\n",
      "# count vectorizer will take a list of strings and then assign a vector for each word \n",
      "# then fron there it will assign a boolean value to it\n",
      "# print x_tr1\n",
      "\n",
      "from sklearn.feature_extraction.text import CountVectorizer\n",
      "vectorizer=CountVectorizer()\n",
      "\n",
      "# below sets the template for the vectorizer using the training dataset\n",
      "v=vectorizer.fit_transform(x_tr1).toarray()\n",
      "\n",
      "\n"
     ],
     "language": "python",
     "metadata": {},
     "outputs": [],
     "prompt_number": 6
    },
    {
     "cell_type": "code",
     "collapsed": false,
     "input": [
      "# set forest\n",
      "forest=RandomForestClassifier(15)\n",
      "# fit the forest\n",
      "pred=forest.fit(v,y_tr)\n"
     ],
     "language": "python",
     "metadata": {},
     "outputs": [],
     "prompt_number": 20
    },
    {
     "cell_type": "code",
     "collapsed": false,
     "input": [
      "# import test dataset\n",
      "loc=\"C:\\\\dex\\\\datascience\\\\kaggle\\\\cooking\\\\\"\n",
      "test=pd.read_json(loc+\"test.json\")\n",
      "# test=test.values\n",
      "\n",
      "# join test lists\n",
      "\n",
      "t_tr=[' '.join(t) for t in test.values[:,1]]\n",
      "t_tr=np.asarray(t_tr)\n",
      "\n",
      "print t_pre\n",
      "print len(vectorizer.get_feature_names())\n",
      "# predict\n",
      "# pred=forest.predict(t_vect)\n"
     ],
     "language": "python",
     "metadata": {},
     "outputs": [
      {
       "output_type": "stream",
       "stream": "stdout",
       "text": [
        "<function <lambda> at 0x0000000015573518>\n",
        "3010\n"
       ]
      }
     ],
     "prompt_number": 8
    },
    {
     "cell_type": "code",
     "collapsed": false,
     "input": [
      "t_tr=[' '.join(t) for t in test.values[:,1]]\n",
      "\n",
      "# below uses the fitted vectorized template and then transforms the test dataset into vectors\n",
      "t_vect=vectorizer.transform(t_tr).toarray()\n",
      "\n",
      "\n",
      "# predicts using the fitted forest\n",
      "test_pred=forest.predict(t_vect)\n",
      "print test_pred"
     ],
     "language": "python",
     "metadata": {},
     "outputs": [
      {
       "output_type": "stream",
       "stream": "stdout",
       "text": [
        "[u'irish' u'southern_us' u'italian' ..., u'italian' u'southern_us'\n",
        " u'mexican']\n"
       ]
      }
     ],
     "prompt_number": 22
    },
    {
     "cell_type": "code",
     "collapsed": false,
     "input": [
      "from sklearn.cross_validation import cross_val_score"
     ],
     "language": "python",
     "metadata": {},
     "outputs": [],
     "prompt_number": 18
    },
    {
     "cell_type": "code",
     "collapsed": false,
     "input": [
      "cross_val_score(forest, v, y_tr)"
     ],
     "language": "python",
     "metadata": {},
     "outputs": [],
     "prompt_number": "*"
    },
    {
     "cell_type": "code",
     "collapsed": false,
     "input": [],
     "language": "python",
     "metadata": {},
     "outputs": []
    }
   ],
   "metadata": {}
  }
 ]
}