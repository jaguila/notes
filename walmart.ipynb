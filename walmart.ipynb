{
 "metadata": {
  "name": "",
  "signature": "sha256:2552b33a6822f46207a2714dd50f1de86ad149813e8d62d67e1ddc97f581a1ba"
 },
 "nbformat": 3,
 "nbformat_minor": 0,
 "worksheets": [
  {
   "cells": [
    {
     "cell_type": "code",
     "collapsed": false,
     "input": [
      "import pandas as pd\n",
      "import matplotlib.pyplot as plt\n",
      "import numpy as np\n",
      "import sklearn.ensemble as ensemble"
     ],
     "language": "python",
     "metadata": {},
     "outputs": [],
     "prompt_number": 2
    },
    {
     "cell_type": "code",
     "collapsed": false,
     "input": [
      "loc=\"C:\\\\dex\\\\datascience\\\\kaggle\\\\walmart\\\\\"\n",
      "\n",
      "train_raw=pd.read_csv(loc+\"train.csv\")\n",
      "train_raw.describe()\n",
      "train_raw.dtypes\n",
      "\n",
      "\n",
      "\n"
     ],
     "language": "python",
     "metadata": {},
     "outputs": [
      {
       "metadata": {},
       "output_type": "pyout",
       "prompt_number": 11,
       "text": [
        "TripType                   int64\n",
        "VisitNumber                int64\n",
        "Weekday                   object\n",
        "Upc                      float64\n",
        "ScanCount                  int64\n",
        "DepartmentDescription     object\n",
        "FinelineNumber           float64\n",
        "dtype: object"
       ]
      }
     ],
     "prompt_number": 11
    },
    {
     "cell_type": "code",
     "collapsed": false,
     "input": [
      "tr_y=train_raw.values[:,0]\n",
      "tr_x=train_raw.values[:,1:]\n",
      "# print tr_x\n",
      "\n",
      "\n"
     ],
     "language": "python",
     "metadata": {},
     "outputs": [
      {
       "output_type": "stream",
       "stream": "stdout",
       "text": [
        "[[5L 'Friday' 68113152929.0 -1L 'FINANCIAL SERVICES' 1000.0]\n",
        " [7L 'Friday' 60538815980.0 1L 'SHOES' 8931.0]\n",
        " [7L 'Friday' 7410811099.0 1L 'PERSONAL CARE' 4504.0]\n",
        " ..., \n",
        " [191346L 'Sunday' 4072.0 1L 'PRODUCE' 4170.0]\n",
        " [191347L 'Sunday' 4190007664.0 1L 'DAIRY' 1512.0]\n",
        " [191347L 'Sunday' 3800059655.0 1L 'GROCERY DRY GOODS' 3600.0]]\n"
       ]
      }
     ],
     "prompt_number": 18
    },
    {
     "cell_type": "code",
     "collapsed": false,
     "input": [],
     "language": "python",
     "metadata": {},
     "outputs": []
    }
   ],
   "metadata": {}
  }
 ]
}