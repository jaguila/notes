{
 "metadata": {
  "name": ""
 },
 "nbformat": 3,
 "nbformat_minor": 0,
 "worksheets": [
  {
   "cells": [
    {
     "cell_type": "markdown",
     "metadata": {},
     "source": [
      "machine learning\n",
      "\n",
      "naive bayes - \n",
      "    decision boundary\n",
      "    \n"
     ]
    },
    {
     "cell_type": "code",
     "collapsed": false,
     "input": [
      "# create a decision boundary\n",
      "import numpy as np\n",
      "from sklearn.naive_bayes import GaussianNB\n",
      "X=np.array([[-1,-1],[-2,-1],[-3,-2]])\n",
      "Y=np.array([1,1,1])\n",
      "# classifier\n",
      "clf = GaussianNB()\n",
      "# fit or train the classifier. supervised classifier function. Learn the pattern\n",
      "clf.fit(X,Y)\n",
      "\n",
      "# predict where this point residtes\n",
      "print(clf.predict([[0.8,-1]]))\n"
     ],
     "language": "python",
     "metadata": {},
     "outputs": [
      {
       "output_type": "stream",
       "stream": "stdout",
       "text": [
        "[1]\n"
       ]
      }
     ],
     "prompt_number": 1
    },
    {
     "cell_type": "raw",
     "metadata": {},
     "source": [
      "so order of bayes\n",
      "must fit or have the function learn the pattern\n",
      "have to function try to predict"
     ]
    },
    {
     "cell_type": "code",
     "collapsed": false,
     "input": [
      "# you can find accuracy of predict set by comparing the predicted Y with the real test Y\n",
      "from sklearn.metrics import accuracy_score\n",
      "\n",
      "# inputs are predicted labels and real labels(use \n",
      "accuracy_score(pred_y, real_y)\n"
     ],
     "language": "python",
     "metadata": {},
     "outputs": [
      {
       "ename": "NameError",
       "evalue": "name 'pred_y' is not defined",
       "output_type": "pyerr",
       "traceback": [
        "\u001b[1;31m---------------------------------------------------------------------------\u001b[0m\n\u001b[1;31mNameError\u001b[0m                                 Traceback (most recent call last)",
        "\u001b[1;32m<ipython-input-9-f2b4f08b02f7>\u001b[0m in \u001b[0;36m<module>\u001b[1;34m()\u001b[0m\n\u001b[0;32m      3\u001b[0m \u001b[1;33m\u001b[0m\u001b[0m\n\u001b[0;32m      4\u001b[0m \u001b[1;31m# inputs are predicted labels and real labels(use\u001b[0m\u001b[1;33m\u001b[0m\u001b[1;33m\u001b[0m\u001b[0m\n\u001b[1;32m----> 5\u001b[1;33m \u001b[0maccuracy_score\u001b[0m\u001b[1;33m(\u001b[0m\u001b[0mpred_y\u001b[0m\u001b[1;33m,\u001b[0m \u001b[0mreal_y\u001b[0m\u001b[1;33m)\u001b[0m\u001b[1;33m\u001b[0m\u001b[0m\n\u001b[0m\u001b[0;32m      6\u001b[0m \u001b[1;33m\u001b[0m\u001b[0m\n\u001b[0;32m      7\u001b[0m \u001b[1;31m# make sure to always have always two sets of data test and train... if only one bucket.. take 10% of data and make that your testing set\u001b[0m\u001b[1;33m\u001b[0m\u001b[1;33m\u001b[0m\u001b[0m\n",
        "\u001b[1;31mNameError\u001b[0m: name 'pred_y' is not defined"
       ]
      }
     ],
     "prompt_number": 9
    },
    {
     "cell_type": "code",
     "collapsed": false,
     "input": [
      "def NBAccuracy(features_train, labels_train, features_test, labels_test):\n",
      "    from sklearn.naive_bayes import GaussianNB\n",
      "    clf=GaussianNB()\n",
      "    clf.fit(features_train,labels_train)\n",
      "    predict=clf.predict(features_test)\n",
      "    from sklearn.metrics import accuracy_score\n",
      "    accuracy_score(predict, labels_test)\n",
      "    return accuracy\n",
      "\n",
      "\n",
      "def setdata(x=1000):\n",
      "    import random\n",
      "    features_train=[random.random() for ii in range(0,x)]\n",
      "    labels_train=[features_train[ii]+0.3 for ii in range(0,x)]\n",
      "    return features_train, labels_train\n",
      "x, y =setdata()"
     ],
     "language": "python",
     "metadata": {},
     "outputs": [],
     "prompt_number": 11
    },
    {
     "cell_type": "raw",
     "metadata": {},
     "source": [
      "# make sure to always have always two sets of data test and train... if only one bucket.. take 10% of data and make that your testing set\n",
      "# so you do not overfit\n",
      "\n",
      "\n",
      "Bayes Rule\n",
      "    Prior probability then get test evidence -> posterior probability\n",
      "    takes a prior probability sets a test on it and then gives you a whole new prob\n",
      "\n",
      "example:\n",
      "    prior \n",
      "        P(C)\n",
      "        p(POS|C)\n",
      "        P(neg|>c)\n",
      "        P(>c)\n",
      "        P(pos|>c)\n",
      "    joint prob\n",
      "        p(c,pos)=p(c) * p(pos|c)\n",
      "        p(>c,pos)=p(>c) * p(pos|>c)\n",
      "    normalize P(POS)=P(c,pos)+P(>c,pos)\n",
      "    posterior P(C|POS)=p(c,pos)/p(pos)"
     ]
    },
    {
     "cell_type": "code",
     "collapsed": false,
     "input": [
      "print 0.01 * 0.9\n",
      "print 0.99 * 0.1\n",
      "print 0.009/0.108\n",
      "print 0.099/0.108\n",
      "print 0.0833+0.9167"
     ],
     "language": "python",
     "metadata": {},
     "outputs": [
      {
       "output_type": "stream",
       "stream": "stdout",
       "text": [
        "0.009\n",
        "0.099\n",
        "0.0833333333333\n",
        "0.916666666667\n",
        "1.0\n"
       ]
      }
     ],
     "prompt_number": 19
    },
    {
     "cell_type": "code",
     "collapsed": false,
     "input": [
      "lamens - to get the probability of getting cancer given a positive test is to take the prob of cancer times \n",
      "the prob of positive given cancer divided by the normalized probability of positive\n",
      "\n",
      "algorithm of bayes rule"
     ],
     "language": "python",
     "metadata": {},
     "outputs": []
    },
    {
     "cell_type": "raw",
     "metadata": {},
     "source": [
      "text learning - naives bayes\n",
      "    P(chris)=0.5\n",
      "    P(sara)=0.5\n",
      "    P(life deal,chris)=0.04 ~~prob life deal and its chris\n",
      "    P(life deal,sara)=0.03 ~~ prob life deal and its sara\n",
      "    P(chris|life deal)= P(chris, life deal) / P(life deal)\n",
      "    #P(chris|life deal)= [P(chris) * P(life deal|chris)] / [P(chris, life deal)+P(not chris, life deal)]\n",
      "    #P(chris|life deal)= [P(chris) * P(life deal,chris)] / [P(chris)* P(life deal|chris)+P(not chris)*P(life deal,not chris)]\n",
      "        P(chris|life deal)= P(chris, life deal) / [P(life deal,chris)+P(life deal, sara)]\n",
      "    "
     ]
    },
    {
     "cell_type": "code",
     "collapsed": false,
     "input": [
      "chris=0.5\n",
      "sara=0.5\n",
      "ldc=0.04\n",
      "lds=0.03\n",
      "\n",
      "\n",
      "print (chris*ldc)/(chris*ldc+sara*lds)\n",
      "print (sara*lds)/(chris*ldc+sara*lds)\n",
      "\n",
      "print ldc/(ldc+lds)\n",
      "\n",
      "\n",
      "\n",
      "\n"
     ],
     "language": "python",
     "metadata": {},
     "outputs": [
      {
       "output_type": "stream",
       "stream": "stdout",
       "text": [
        "0.571428571429\n",
        "0.428571428571\n",
        "0.571428571429\n"
       ]
      }
     ],
     "prompt_number": 10
    },
    {
     "cell_type": "raw",
     "metadata": {},
     "source": [
      "P(c,loved)=p(c)*p(loved|c)\n",
      "P(s,loved)=p(s)*p(loved|s)\n",
      "p(c|loved)=p(c,loved)/p(loved)\n",
      "p(c|loved)=p(c,loved)/(p(c,loved)+p(s,loved))"
     ]
    },
    {
     "cell_type": "code",
     "collapsed": false,
     "input": [
      "pcld=.5*.8*.1\n",
      "psld=.5*.5*.2\n",
      "pcldf=pcld/(pcld+psld)\n",
      "pclsf=psld/(pcld+psld)\n",
      "print pcldf\n",
      "print pclsf\n"
     ],
     "language": "python",
     "metadata": {},
     "outputs": [
      {
       "output_type": "stream",
       "stream": "stdout",
       "text": [
        "0.444444444444\n",
        "0.555555555556\n"
       ]
      }
     ],
     "prompt_number": 15
    },
    {
     "cell_type": "code",
     "collapsed": false,
     "input": [],
     "language": "python",
     "metadata": {},
     "outputs": []
    }
   ],
   "metadata": {}
  }
 ]
}