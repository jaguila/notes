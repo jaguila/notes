{
 "metadata": {
  "name": "",
  "signature": "sha256:1e63a706c7b0d9a61ad00f42ab4f7b41acc697e9b1c8fa9b6cf604f0f0ce2f92"
 },
 "nbformat": 3,
 "nbformat_minor": 0,
 "worksheets": [
  {
   "cells": [
    {
     "cell_type": "code",
     "collapsed": false,
     "input": [
      "import pandas as pd\n",
      "import numpy as np\n",
      "import matplotlib.pyplot as plt\n",
      "from sklearn.ensemble import RandomForestRegressor, RandomForestClassifier\n",
      "from sklearn.cross_validation import cross_val_score"
     ],
     "language": "python",
     "metadata": {},
     "outputs": [],
     "prompt_number": 34
    },
    {
     "cell_type": "code",
     "collapsed": false,
     "input": [
      "loc=\"C:\\\\dex\\\\datascience\\\\kaggle\\\\crime\\\\\"\n",
      "train=pd.read_csv(loc+\"train.csv\")"
     ],
     "language": "python",
     "metadata": {},
     "outputs": [],
     "prompt_number": 4
    },
    {
     "cell_type": "code",
     "collapsed": false,
     "input": [
      "# ensure all the columns are imported\n",
      "train.columns"
     ],
     "language": "python",
     "metadata": {},
     "outputs": [
      {
       "metadata": {},
       "output_type": "pyout",
       "prompt_number": 17,
       "text": [
        "Index([u'Dates', u'Category', u'Descript', u'DayOfWeek', u'PdDistrict', u'Resolution', u'Address', u'X', u'Y'], dtype='object')"
       ]
      }
     ],
     "prompt_number": 17
    },
    {
     "cell_type": "code",
     "collapsed": false,
     "input": [
      "# create the array for y values\n",
      "y_tr=train.values[:,1]\n",
      "print y_tr"
     ],
     "language": "python",
     "metadata": {},
     "outputs": [
      {
       "output_type": "stream",
       "stream": "stdout",
       "text": [
        "['WARRANTS' 'OTHER OFFENSES' 'OTHER OFFENSES' ..., 'LARCENY/THEFT'\n",
        " 'VANDALISM' 'FORGERY/COUNTERFEITING']\n"
       ]
      }
     ],
     "prompt_number": 36
    },
    {
     "cell_type": "code",
     "collapsed": false,
     "input": [
      "# create the array for x values\n",
      "x_tr1_raw=train.values[:,3]\n",
      "x_tr1, x_tr1_d=pd.factorize(x_tr1_raw)\n",
      "x_tr2_raw=train.values[:,4]\n",
      "x_tr2,x_tr2_d=pd.factorize(x_tr2_raw)\n",
      "x_tr3=train.values[:,7:]"
     ],
     "language": "python",
     "metadata": {},
     "outputs": [],
     "prompt_number": 55
    },
    {
     "cell_type": "code",
     "collapsed": false,
     "input": [
      "# join all the x variables\n",
      "x_tr=np.column_stack((x_tr1, x_tr2,x_tr3))\n",
      "print x_tr"
     ],
     "language": "python",
     "metadata": {},
     "outputs": [
      {
       "output_type": "stream",
       "stream": "stdout",
       "text": [
        "[[0 0 -122.425891675136 37.7745985956747]\n",
        " [0 0 -122.425891675136 37.7745985956747]\n",
        " [0 0 -122.42436302145 37.8004143219856]\n",
        " ..., \n",
        " [2 9 -122.403390364804 37.780265577696]\n",
        " [2 9 -122.39053140418699 37.78060707982429]\n",
        " [2 3 -122.394925721424 37.738211541051996]]\n"
       ]
      }
     ],
     "prompt_number": 56
    },
    {
     "cell_type": "code",
     "collapsed": false,
     "input": [
      "# create forest \n",
      "forest=RandomForestClassifier(15)\n",
      "# fit forest to training dataset\n",
      "forest.fit(x_tr,y_tr)\n"
     ],
     "language": "python",
     "metadata": {},
     "outputs": [
      {
       "metadata": {},
       "output_type": "pyout",
       "prompt_number": 61,
       "text": [
        "RandomForestClassifier(bootstrap=True, class_weight=None, criterion='gini',\n",
        "            max_depth=None, max_features='auto', max_leaf_nodes=None,\n",
        "            min_samples_leaf=1, min_samples_split=2,\n",
        "            min_weight_fraction_leaf=0.0, n_estimators=15, n_jobs=1,\n",
        "            oob_score=False, random_state=None, verbose=0,\n",
        "            warm_start=False)"
       ]
      }
     ],
     "prompt_number": 61
    },
    {
     "cell_type": "code",
     "collapsed": false,
     "input": [
      "# upload test dataset\n",
      "test=pd.read_csv(loc+\"test.csv\")"
     ],
     "language": "python",
     "metadata": {},
     "outputs": [],
     "prompt_number": 51
    },
    {
     "cell_type": "code",
     "collapsed": false,
     "input": [
      "# make training dataset into arrays and factorized\n",
      "# test.head()\n",
      "t_array1_raw=test.values[:,3]\n",
      "t_array1, t_array1_d=pd.factorize(t_array1_raw)\n",
      "t_array2_raw=test.values[:,4]\n",
      "t_array2, t_array2_d=pd.factorize(t_array2_raw)\n",
      "t_array3=test.values[:, -2:]"
     ],
     "language": "python",
     "metadata": {},
     "outputs": [],
     "prompt_number": 72
    },
    {
     "cell_type": "code",
     "collapsed": false,
     "input": [
      "# stack all of the arrays for test\n",
      "t_array=np.column_stack((t_array1, t_array2, t_array3))\n",
      "print t_array"
     ],
     "language": "python",
     "metadata": {},
     "outputs": [
      {
       "output_type": "stream",
       "stream": "stdout",
       "text": [
        "[[0 0 -122.39958770418998 37.7350510103906]\n",
        " [0 1 -122.391522893042 37.7324323864471]\n",
        " [1 2 -122.426001954961 37.7922124386284]\n",
        " ..., \n",
        " [2 1942 -122.44541822379401 37.7120747965978]\n",
        " [0 9253 -122.387394123158 37.739479269320704]\n",
        " [3 2166 -122.489713969124 37.7339497680852]]\n"
       ]
      }
     ],
     "prompt_number": 73
    },
    {
     "cell_type": "code",
     "collapsed": false,
     "input": [
      "forest.predict(t_array)\n",
      "\n",
      "# test.columns"
     ],
     "language": "python",
     "metadata": {},
     "outputs": [
      {
       "metadata": {},
       "output_type": "pyout",
       "prompt_number": 75,
       "text": [
        "array(['LARCENY/THEFT', 'OTHER OFFENSES', 'VEHICLE THEFT', ...,\n",
        "       'LARCENY/THEFT', 'SUSPICIOUS OCC', 'LARCENY/THEFT'], dtype=object)"
       ]
      }
     ],
     "prompt_number": 75
    },
    {
     "cell_type": "code",
     "collapsed": false,
     "input": [
      "# see scores of forest\n",
      "score=cross_val_score(forest, x_tr, y_tr)"
     ],
     "language": "python",
     "metadata": {},
     "outputs": [],
     "prompt_number": 76
    },
    {
     "cell_type": "code",
     "collapsed": false,
     "input": [
      "print score"
     ],
     "language": "python",
     "metadata": {},
     "outputs": [
      {
       "output_type": "stream",
       "stream": "stdout",
       "text": [
        "[ 0.2204244   0.23524588  0.22453352]\n"
       ]
      }
     ],
     "prompt_number": 77
    },
    {
     "cell_type": "code",
     "collapsed": false,
     "input": [
      "forest2=forest\n",
      "forest.fit(x_tr,y_tr)"
     ],
     "language": "python",
     "metadata": {},
     "outputs": [
      {
       "metadata": {},
       "output_type": "pyout",
       "prompt_number": 80,
       "text": [
        "RandomForestClassifier(bootstrap=True, class_weight=None, criterion='gini',\n",
        "            max_depth=None, max_features='auto', max_leaf_nodes=None,\n",
        "            min_samples_leaf=1, min_samples_split=2,\n",
        "            min_weight_fraction_leaf=0.0, n_estimators=15, n_jobs=1,\n",
        "            oob_score=False, random_state=None, verbose=0,\n",
        "            warm_start=False)"
       ]
      }
     ],
     "prompt_number": 80
    },
    {
     "cell_type": "code",
     "collapsed": false,
     "input": [
      "forest2.fit(x_tr[:,:-2], y_tr)"
     ],
     "language": "python",
     "metadata": {},
     "outputs": [
      {
       "metadata": {},
       "output_type": "pyout",
       "prompt_number": 81,
       "text": [
        "RandomForestClassifier(bootstrap=True, class_weight=None, criterion='gini',\n",
        "            max_depth=None, max_features='auto', max_leaf_nodes=None,\n",
        "            min_samples_leaf=1, min_samples_split=2,\n",
        "            min_weight_fraction_leaf=0.0, n_estimators=15, n_jobs=1,\n",
        "            oob_score=False, random_state=None, verbose=0,\n",
        "            warm_start=False)"
       ]
      }
     ],
     "prompt_number": 81
    },
    {
     "cell_type": "code",
     "collapsed": false,
     "input": [
      "score2=cross_val_score(forest2, x_tr[:,:-2], y_tr)"
     ],
     "language": "python",
     "metadata": {},
     "outputs": [],
     "prompt_number": 82
    },
    {
     "cell_type": "code",
     "collapsed": false,
     "input": [
      "print score2"
     ],
     "language": "python",
     "metadata": {},
     "outputs": [
      {
       "output_type": "stream",
       "stream": "stdout",
       "text": [
        "[ 0.21919105  0.22119304  0.22073742]\n"
       ]
      }
     ],
     "prompt_number": 83
    }
   ],
   "metadata": {}
  }
 ]
}