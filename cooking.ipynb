{
 "metadata": {
  "name": "",
  "signature": "sha256:276689b10e96beb3d89a8fc5cac140fa204dd9f8a10fcd09e339565b46235fc5"
 },
 "nbformat": 3,
 "nbformat_minor": 0,
 "worksheets": [
  {
   "cells": [
    {
     "cell_type": "code",
     "collapsed": false,
     "input": [
      "import matplotlib.pyplot as plt\n",
      "import json\n",
      "import numpy as np\n",
      "from sklearn.ensemble import RandomForestClassifier, RandomForestRegressor\n",
      "from sklearn.cross_validation import cross_val_score\n",
      "import pandas as pd"
     ],
     "language": "python",
     "metadata": {},
     "outputs": [],
     "prompt_number": 4
    },
    {
     "cell_type": "code",
     "collapsed": false,
     "input": [
      "# upload\n",
      "loc=\"C:\\\\dex\\\\datascience\\\\kaggle\\\\cooking\\\\\"\n",
      "train=pd.read_json(loc+\"train.json\")"
     ],
     "language": "python",
     "metadata": {},
     "outputs": [],
     "prompt_number": 5
    },
    {
     "cell_type": "code",
     "collapsed": false,
     "input": [
      "train.head()"
     ],
     "language": "python",
     "metadata": {},
     "outputs": [
      {
       "html": [
        "<div style=\"max-height:1000px;max-width:1500px;overflow:auto;\">\n",
        "<table border=\"1\" class=\"dataframe\">\n",
        "  <thead>\n",
        "    <tr style=\"text-align: right;\">\n",
        "      <th></th>\n",
        "      <th>cuisine</th>\n",
        "      <th>id</th>\n",
        "      <th>ingredients</th>\n",
        "    </tr>\n",
        "  </thead>\n",
        "  <tbody>\n",
        "    <tr>\n",
        "      <th>0</th>\n",
        "      <td>       greek</td>\n",
        "      <td> 10259</td>\n",
        "      <td> [romaine lettuce, black olives, grape tomatoes...</td>\n",
        "    </tr>\n",
        "    <tr>\n",
        "      <th>1</th>\n",
        "      <td> southern_us</td>\n",
        "      <td> 25693</td>\n",
        "      <td> [plain flour, ground pepper, salt, tomatoes, g...</td>\n",
        "    </tr>\n",
        "    <tr>\n",
        "      <th>2</th>\n",
        "      <td>    filipino</td>\n",
        "      <td> 20130</td>\n",
        "      <td> [eggs, pepper, salt, mayonaise, cooking oil, g...</td>\n",
        "    </tr>\n",
        "    <tr>\n",
        "      <th>3</th>\n",
        "      <td>      indian</td>\n",
        "      <td> 22213</td>\n",
        "      <td>               [water, vegetable oil, wheat, salt]</td>\n",
        "    </tr>\n",
        "    <tr>\n",
        "      <th>4</th>\n",
        "      <td>      indian</td>\n",
        "      <td> 13162</td>\n",
        "      <td> [black pepper, shallots, cornflour, cayenne pe...</td>\n",
        "    </tr>\n",
        "  </tbody>\n",
        "</table>\n",
        "</div>"
       ],
       "metadata": {},
       "output_type": "pyout",
       "prompt_number": 4,
       "text": [
        "       cuisine     id                                        ingredients\n",
        "0        greek  10259  [romaine lettuce, black olives, grape tomatoes...\n",
        "1  southern_us  25693  [plain flour, ground pepper, salt, tomatoes, g...\n",
        "2     filipino  20130  [eggs, pepper, salt, mayonaise, cooking oil, g...\n",
        "3       indian  22213                [water, vegetable oil, wheat, salt]\n",
        "4       indian  13162  [black pepper, shallots, cornflour, cayenne pe..."
       ]
      }
     ],
     "prompt_number": 4
    },
    {
     "cell_type": "code",
     "collapsed": false,
     "input": [
      "# seperate dependent variable into array\n",
      "y_tr=train.values[:,0]\n",
      "y_tr=[x.encode('UTF8') for x in y_tr]\n",
      "# print y_tr\n"
     ],
     "language": "python",
     "metadata": {},
     "outputs": [
      {
       "ename": "NameError",
       "evalue": "name 'train' is not defined",
       "output_type": "pyerr",
       "traceback": [
        "\u001b[1;31m---------------------------------------------------------------------------\u001b[0m\n\u001b[1;31mNameError\u001b[0m                                 Traceback (most recent call last)",
        "\u001b[1;32m<ipython-input-1-24fa36a58fe2>\u001b[0m in \u001b[0;36m<module>\u001b[1;34m()\u001b[0m\n\u001b[0;32m      1\u001b[0m \u001b[1;31m# seperate dependent variable into array\u001b[0m\u001b[1;33m\u001b[0m\u001b[1;33m\u001b[0m\u001b[0m\n\u001b[1;32m----> 2\u001b[1;33m \u001b[0my_tr\u001b[0m\u001b[1;33m=\u001b[0m\u001b[0mtrain\u001b[0m\u001b[1;33m.\u001b[0m\u001b[0mvalues\u001b[0m\u001b[1;33m[\u001b[0m\u001b[1;33m:\u001b[0m\u001b[1;33m,\u001b[0m\u001b[1;36m0\u001b[0m\u001b[1;33m]\u001b[0m\u001b[1;33m\u001b[0m\u001b[0m\n\u001b[0m\u001b[0;32m      3\u001b[0m \u001b[0my_tr\u001b[0m\u001b[1;33m=\u001b[0m\u001b[1;33m[\u001b[0m\u001b[0mx\u001b[0m\u001b[1;33m.\u001b[0m\u001b[0mencode\u001b[0m\u001b[1;33m(\u001b[0m\u001b[1;34m'UTF8'\u001b[0m\u001b[1;33m)\u001b[0m \u001b[1;32mfor\u001b[0m \u001b[0mx\u001b[0m \u001b[1;32min\u001b[0m \u001b[0my_tr\u001b[0m\u001b[1;33m]\u001b[0m\u001b[1;33m\u001b[0m\u001b[0m\n\u001b[0;32m      4\u001b[0m \u001b[1;31m# print y_tr\u001b[0m\u001b[1;33m\u001b[0m\u001b[1;33m\u001b[0m\u001b[0m\n",
        "\u001b[1;31mNameError\u001b[0m: name 'train' is not defined"
       ]
      }
     ],
     "prompt_number": 1
    },
    {
     "cell_type": "code",
     "collapsed": false,
     "input": [
      "# plot frequency of dependent variables\n",
      "\n",
      "# create frequencies dict\n",
      "y_freq={}\n",
      "for y in y_tr:\n",
      "    if y_freq.has_key(y):\n",
      "        y_freq[y]=y_freq[y]+1\n",
      "    else:\n",
      "        y_freq[y]=1\n",
      "\n",
      "plt.bar(range(len(y_freq.values())), y_freq.values(), align='center')\n",
      "plt.xticks(range(len(y_freq)), y_freq.keys(),size='small', rotation='vertical')\n",
      "plt.show()"
     ],
     "language": "python",
     "metadata": {},
     "outputs": [],
     "prompt_number": 9
    },
    {
     "cell_type": "code",
     "collapsed": false,
     "input": [
      "# create bar graph\n",
      "# create dict for frequency of each type of cuisine\n",
      "y_freq={}\n",
      "for y in y_tr:\n",
      "    if y_freq.has_key(y):\n",
      "        y_freq[y]=y_freq[y]+1\n",
      "    else:\n",
      "        y_freq[y]=1\n",
      "\n",
      "plt.bar(range(len(y_freq)), y_freq.values())\n",
      "plt.xticks(range(len(y_freq)), y_freq.keys(), rotation='vertical')\n",
      "plt.show()"
     ],
     "language": "python",
     "metadata": {},
     "outputs": [],
     "prompt_number": 5
    },
    {
     "cell_type": "code",
     "collapsed": false,
     "input": [
      "# place indep vars into array\n",
      "x_tr=train.values[:,2]\n",
      "\n",
      "# join all the seperate lists into one list\n",
      "x_tr1=[' '.join(x) for x in x_tr]\n",
      "# count vectorizer will take a list of strings and then assign a vector for each word \n",
      "# then fron there it will assign a boolean value to it\n",
      "# print x_tr1\n",
      "\n",
      "from sklearn.feature_extraction.text import CountVectorizer\n",
      "vectorizer=CountVectorizer()\n",
      "\n",
      "# below sets the template for the vectorizer using the training dataset\n",
      "v=vectorizer.fit_transform(x_tr1).toarray()\n",
      "\n",
      "\n"
     ],
     "language": "python",
     "metadata": {},
     "outputs": [],
     "prompt_number": 10
    },
    {
     "cell_type": "code",
     "collapsed": false,
     "input": [
      "# set forest\n",
      "forest=RandomForestClassifier(15)\n",
      "# fit the forest\n",
      "pred=forest.fit(v,y_tr)\n"
     ],
     "language": "python",
     "metadata": {},
     "outputs": [],
     "prompt_number": 11
    },
    {
     "cell_type": "code",
     "collapsed": false,
     "input": [
      "# import test dataset\n",
      "loc=\"C:\\\\dex\\\\datascience\\\\kaggle\\\\cooking\\\\\"\n",
      "test=pd.read_json(loc+\"test.json\")\n",
      "# test=test.values\n",
      "\n",
      "# join test lists\n",
      "\n",
      "t_tr=[' '.join(t) for t in test.values[:,1]]\n",
      "t_tr=np.asarray(t_tr)\n",
      "\n",
      "t_id=test.values[:,0]\n",
      "\n",
      "print t_id\n",
      "print len(vectorizer.get_feature_names())\n",
      "# predict\n",
      "# pred=forest.predict(t_vect)\n"
     ],
     "language": "python",
     "metadata": {},
     "outputs": [
      {
       "output_type": "stream",
       "stream": "stdout",
       "text": [
        "[18009L 28583L 41580L ..., 22339L 42525L 1443L]\n",
        "3010\n"
       ]
      }
     ],
     "prompt_number": 12
    },
    {
     "cell_type": "code",
     "collapsed": false,
     "input": [
      "t_tr=[' '.join(t) for t in test.values[:,1]]\n",
      "\n",
      "# below uses the fitted vectorized template and then transforms the test dataset into vectors\n",
      "t_vect=vectorizer.transform(t_tr).toarray()\n",
      "\n",
      "\n",
      "# predicts using the fitted forest\n",
      "test_pred=forest.predict(t_vect)\n",
      "print test_pred"
     ],
     "language": "python",
     "metadata": {},
     "outputs": [
      {
       "output_type": "stream",
       "stream": "stdout",
       "text": [
        "[u'irish' u'southern_us' u'italian' ..., u'italian' u'southern_us'\n",
        " u'mexican']\n"
       ]
      }
     ],
     "prompt_number": 22
    },
    {
     "cell_type": "code",
     "collapsed": false,
     "input": [
      "from sklearn.cross_validation import cross_val_score"
     ],
     "language": "python",
     "metadata": {},
     "outputs": [],
     "prompt_number": 18
    },
    {
     "cell_type": "code",
     "collapsed": false,
     "input": [
      "cross_val_score(forest, v, y_tr)"
     ],
     "language": "python",
     "metadata": {},
     "outputs": [
      {
       "metadata": {},
       "output_type": "pyout",
       "prompt_number": 23,
       "text": [
        "array([ 0.71974666,  0.7144581 ,  0.71528826])"
       ]
      }
     ],
     "prompt_number": 23
    },
    {
     "cell_type": "code",
     "collapsed": false,
     "input": [
      "import csv"
     ],
     "language": "python",
     "metadata": {},
     "outputs": [],
     "prompt_number": 3
    },
    {
     "cell_type": "code",
     "collapsed": false,
     "input": [],
     "language": "python",
     "metadata": {},
     "outputs": []
    }
   ],
   "metadata": {}
  }
 ]
}